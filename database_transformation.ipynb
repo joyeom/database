{
 "cells": [
  {
   "cell_type": "code",
   "execution_count": 334,
   "metadata": {
    "deletable": false,
    "editable": false
   },
   "outputs": [],
   "source": [
    "# Initialize Otter\n",
    "import otter\n",
    "grader = otter.Notebook(\"proj2.ipynb\")"
   ]
  },
  {
   "cell_type": "markdown",
   "metadata": {},
   "source": [
    "# Project 2: Query Performance\n",
    "## Due Date: Friday 10/07, 11:59 PM\n",
    "## Assignment Details\n",
    "In this project, we will explore how the database system optimizes query execution and how users can futher tune the performance of their queries.\n",
    "\n",
    "This project works with the Lahman's Baseball Database, an open source collection of baseball statistics from 1871 to 2020. It contains a variety of data, like batting statistics, team stats, managerial records, Hall of Fame records, and much more.\n",
    "\n",
    "**Note:** If at any point during the project, the internal state of the database or its tables have been modified in an undesirable way (i.e. a modification not resulting from the instructions of a question), restart your kernel and clear output and simply re-run the notebook as normal. This will shutdown you current connection to the database, which will prevent the issue of multiple connections to the database at any given point, and when re-running the notebook you will create a fresh database based on the provided Postgres dump.\n",
    "\n",
    "## Logistics & Scoring Breakdown\n",
    "\n",
    "For Data 101 students, this project is worth 15% of your grade. For Info 258 students, this project is worth 12% of your grade.\n",
    "\n",
    "- Each coding question has **both public tests and hidden tests**. Roughly 50% of your coding grade will be made up of your score on the public tests released to you, while the remaining 50% will be made up of unreleased hidden tests.\n",
    "- Public tests for multiple choice questions are for sanity check only (e.g. you are answering in the correct format). Partial credit will be awarded.\n",
    "- Free-response questions will be manually graded. Please answer thoughtfully in complete sentences, drawing from knowledge in lectures and from your inspection of query plans.\n",
    "\n",
    "This is an **individual project**. However, you’re welcome to collaborate with any other student in the class as long as it’s within the academic honesty guidelines.\n",
    "\n",
    "Question | Points\n",
    "--- | ---\n",
    "0 | 1\n",
    "1a\t| 1\n",
    "1bi\t| 1\n",
    "1bii\t| 2\n",
    "1c\t| 1\n",
    "1di\t| 2\n",
    "1dii\t| 1\n",
    "1ei\t| 1\n",
    "1eii\t| 1\n",
    "1eiii\t| 1\n",
    "1eiv\t| 2\n",
    "1ev\t| 2\n",
    "2a\t| 1\n",
    "2b\t| 1\n",
    "2c\t| 2\n",
    "2d\t| 2\n",
    "3a\t| 1\n",
    "3b\t| 1\n",
    "3c |\t1\n",
    "3d\t| 3\n",
    "4a\t| 2\n",
    "4b\t| 1\n",
    "4c\t| 1\n",
    "4di\t| 2\n",
    "4dii |\t2\n",
    "4ei\t| 2\n",
    "4eii | \t1\n",
    "4eiii |\t2\n",
    "4eiv |\t1\n",
    "4ev |\t1\n",
    "4evi |\t2\n",
    "4evii |\t2\n",
    "5a | 2\n",
    "5b | 2\n",
    "5c | 1\n",
    "5d | 2\n",
    "6a | 2\n",
    "6b | 1\n",
    "6c | 1\n",
    "6d | 2\n",
    "6e | 2\n",
    "7a | 1\n",
    "7b | 1\n",
    "7c | 2\n",
    "8  | 6\n",
    "**Total** | 72"
   ]
  },
  {
   "cell_type": "code",
   "execution_count": 335,
   "metadata": {},
   "outputs": [],
   "source": [
    "# Run this cell to set up imports\n",
    "import numpy as np\n",
    "import pandas as pd"
   ]
  },
  {
   "cell_type": "markdown",
   "metadata": {},
   "source": [
    "## Getting Connected\n",
    "Similar to Project 1, we will be using the `ipython-sql` library to connect this notebook to a PostgreSQL database server on your JupyterHub account. Run the following cell to initiate the connection."
   ]
  },
  {
   "cell_type": "code",
   "execution_count": 336,
   "metadata": {},
   "outputs": [],
   "source": [
    "%reload_ext sql\n",
    "%sql postgresql://jovyan@127.0.0.1:5432/postgres"
   ]
  },
  {
   "cell_type": "markdown",
   "metadata": {},
   "source": [
    "## Setting up the Database\n",
    "The following cell will create the `baseball` database (if needed), unzip the Postgres dump of the Lahman's Baseball Database, populate the `baseball` database with the desired tables and data, and finally display all databases associated with the Postgres instance. After running the cell, you should see the `baseball` database in the generated list of databases outputted by `%sql \\l`.\n",
    "\n",
    "**Note:** If you run into the **role does not exist** error, feel free to ignore it. It does not affect data import."
   ]
  },
  {
   "cell_type": "code",
   "execution_count": 337,
   "metadata": {},
   "outputs": [
    {
     "name": "stdout",
     "output_type": "stream",
     "text": [
      "ERROR:  database \"baseball\" is being accessed by other users\n",
      "DETAIL:  There is 1 other session using the database.\n",
      "ERROR:  database \"baseball\" already exists\n",
      "SET\n",
      "SET\n",
      "SET\n",
      "SET\n",
      " set_config \n",
      "------------\n",
      " \n",
      "(1 row)\n",
      "\n",
      "SET\n",
      "SET\n",
      "SET\n",
      "CREATE EXTENSION\n",
      "COMMENT\n",
      "SET\n",
      "psql:<stdin>:46: ERROR:  relation \"allstarfull\" already exists\n",
      "psql:<stdin>:49: ERROR:  role \"postgres\" does not exist\n",
      "psql:<stdin>:77: ERROR:  relation \"appearances\" already exists\n",
      "psql:<stdin>:80: ERROR:  role \"postgres\" does not exist\n",
      "psql:<stdin>:93: ERROR:  relation \"awardsmanagers\" already exists\n",
      "psql:<stdin>:96: ERROR:  role \"postgres\" does not exist\n",
      "psql:<stdin>:109: ERROR:  relation \"awardsplayers\" already exists\n",
      "psql:<stdin>:112: ERROR:  role \"postgres\" does not exist\n",
      "psql:<stdin>:126: ERROR:  relation \"awardssharemanagers\" already exists\n",
      "psql:<stdin>:129: ERROR:  role \"postgres\" does not exist\n",
      "psql:<stdin>:143: ERROR:  relation \"awardsshareplayers\" already exists\n",
      "psql:<stdin>:146: ERROR:  role \"postgres\" does not exist\n",
      "psql:<stdin>:175: ERROR:  relation \"batting\" already exists\n",
      "psql:<stdin>:178: ERROR:  role \"postgres\" does not exist\n",
      "psql:<stdin>:207: ERROR:  relation \"battingpost\" already exists\n",
      "psql:<stdin>:210: ERROR:  role \"postgres\" does not exist\n",
      "psql:<stdin>:220: ERROR:  relation \"collegeplaying\" already exists\n",
      "psql:<stdin>:223: ERROR:  role \"postgres\" does not exist\n",
      "psql:<stdin>:248: ERROR:  relation \"fielding\" already exists\n",
      "psql:<stdin>:251: ERROR:  role \"postgres\" does not exist\n",
      "psql:<stdin>:264: ERROR:  relation \"fieldingof\" already exists\n",
      "psql:<stdin>:267: ERROR:  role \"postgres\" does not exist\n",
      "psql:<stdin>:292: ERROR:  relation \"fieldingofsplit\" already exists\n",
      "psql:<stdin>:295: ERROR:  role \"postgres\" does not exist\n",
      "psql:<stdin>:319: ERROR:  relation \"fieldingpost\" already exists\n",
      "psql:<stdin>:322: ERROR:  role \"postgres\" does not exist\n",
      "psql:<stdin>:338: ERROR:  relation \"halloffame\" already exists\n",
      "psql:<stdin>:341: ERROR:  role \"postgres\" does not exist\n",
      "psql:<stdin>:357: ERROR:  relation \"homegames\" already exists\n",
      "psql:<stdin>:360: ERROR:  role \"postgres\" does not exist\n",
      "psql:<stdin>:377: ERROR:  relation \"managers\" already exists\n",
      "psql:<stdin>:380: ERROR:  role \"postgres\" does not exist\n",
      "psql:<stdin>:397: ERROR:  relation \"managershalf\" already exists\n",
      "psql:<stdin>:400: ERROR:  role \"postgres\" does not exist\n",
      "psql:<stdin>:413: ERROR:  relation \"parks\" already exists\n",
      "psql:<stdin>:416: ERROR:  role \"postgres\" does not exist\n",
      "psql:<stdin>:447: ERROR:  relation \"people\" already exists\n",
      "psql:<stdin>:450: ERROR:  role \"postgres\" does not exist\n",
      "psql:<stdin>:487: ERROR:  relation \"pitching\" already exists\n",
      "psql:<stdin>:490: ERROR:  role \"postgres\" does not exist\n",
      "psql:<stdin>:527: ERROR:  relation \"pitchingpost\" already exists\n",
      "psql:<stdin>:530: ERROR:  role \"postgres\" does not exist\n",
      "psql:<stdin>:542: ERROR:  relation \"salaries\" already exists\n",
      "psql:<stdin>:545: ERROR:  role \"postgres\" does not exist\n",
      "psql:<stdin>:557: ERROR:  relation \"schools\" already exists\n",
      "psql:<stdin>:560: ERROR:  role \"postgres\" does not exist\n",
      "psql:<stdin>:576: ERROR:  relation \"seriespost\" already exists\n",
      "psql:<stdin>:579: ERROR:  role \"postgres\" does not exist\n",
      "psql:<stdin>:634: ERROR:  relation \"teams\" already exists\n",
      "psql:<stdin>:637: ERROR:  role \"postgres\" does not exist\n",
      "psql:<stdin>:648: ERROR:  relation \"teamsfranchises\" already exists\n",
      "psql:<stdin>:651: ERROR:  role \"postgres\" does not exist\n",
      "psql:<stdin>:668: ERROR:  relation \"teamshalf\" already exists\n",
      "psql:<stdin>:671: ERROR:  role \"postgres\" does not exist\n",
      "psql:<stdin>:5897: ERROR:  duplicate key value violates unique constraint \"allstarfull_pkey\"\n",
      "DETAIL:  Key (playerid, yearid, gamenum)=(gomezle01, 1933, 0) already exists.\n",
      "CONTEXT:  COPY allstarfull, line 1\n",
      "psql:<stdin>:110161: ERROR:  duplicate key value violates unique constraint \"appearances_pkey\"\n",
      "DETAIL:  Key (yearid, teamid, playerid)=(1871, TRO, abercda01) already exists.\n",
      "CONTEXT:  COPY appearances, line 1\n",
      "psql:<stdin>:110348: ERROR:  duplicate key value violates unique constraint \"awardsmanagers_pkey\"\n",
      "DETAIL:  Key (yearid, awardid, lgid, playerid)=(1983, BBWAA Manager of the Year, AL, larusto01) already exists.\n",
      "CONTEXT:  COPY awardsmanagers, line 1\n",
      "psql:<stdin>:116592: ERROR:  duplicate key value violates unique constraint \"awardsplayers_pkey\"\n",
      "DETAIL:  Key (yearid, awardid, lgid, playerid)=(1877, Pitching Triple Crown, NL, bondto01) already exists.\n",
      "CONTEXT:  COPY awardsplayers, line 1\n",
      "psql:<stdin>:117025: ERROR:  duplicate key value violates unique constraint \"awardssharemanagers_pkey\"\n",
      "DETAIL:  Key (awardid, yearid, lgid, playerid)=(BBWAA Manager of the Year, 1983, AL, altobjo01) already exists.\n",
      "CONTEXT:  COPY awardssharemanagers, line 1\n",
      "psql:<stdin>:123912: ERROR:  duplicate key value violates unique constraint \"awardsshareplayers_pkey\"\n",
      "DETAIL:  Key (awardid, yearid, lgid, playerid)=(Cy Young, 1956, ML, fordwh01) already exists.\n",
      "CONTEXT:  COPY awardsshareplayers, line 1\n",
      "psql:<stdin>:228244: ERROR:  duplicate key value violates unique constraint \"batting_pkey\"\n",
      "DETAIL:  Key (playerid, yearid, stint)=(abercda01, 1871, 1) already exists.\n",
      "CONTEXT:  COPY batting, line 1\n",
      "psql:<stdin>:242195: ERROR:  duplicate key value violates unique constraint \"battingpost_pkey\"\n",
      "DETAIL:  Key (yearid, round, playerid)=(1884, WS, becanbu01) already exists.\n",
      "CONTEXT:  COPY battingpost, line 1\n",
      "psql:<stdin>:259553: ERROR:  duplicate key value violates unique constraint \"collegeplaying_pkey\"\n",
      "DETAIL:  Key (playerid, schoolid, yearid)=(aardsda01, pennst, 2001) already exists.\n",
      "CONTEXT:  COPY collegeplaying, line 1\n",
      "psql:<stdin>:398399: ERROR:  duplicate key value violates unique constraint \"fielding_pkey\"\n",
      "DETAIL:  Key (playerid, yearid, stint, pos)=(abercda01, 1871, 1, SS) already exists.\n",
      "CONTEXT:  COPY fielding, line 1\n",
      "psql:<stdin>:410435: ERROR:  duplicate key value violates unique constraint \"fieldingof_pkey\"\n",
      "DETAIL:  Key (playerid, yearid, stint)=(allisar01, 1871, 1) already exists.\n",
      "CONTEXT:  COPY fieldingof, line 1\n",
      "COPY 31955\n",
      "psql:<stdin>:455516: ERROR:  duplicate key value violates unique constraint \"fieldingpost_pkey\"\n",
      "DETAIL:  Key (playerid, yearid, round, pos)=(beaumgi01, 1903, WS, CF) already exists.\n",
      "CONTEXT:  COPY fieldingpost, line 1\n",
      "psql:<stdin>:459715: ERROR:  duplicate key value violates unique constraint \"halloffame_pkey\"\n",
      "DETAIL:  Key (playerid, yearid, votedby)=(cobbty01, 1936, BBWAA) already exists.\n",
      "CONTEXT:  COPY halloffame, line 1\n",
      "psql:<stdin>:462763: ERROR:  duplicate key value violates unique constraint \"homegames_pkey\"\n",
      "DETAIL:  Key (year, league, team, park)=(1871, NA, BS1, BOS01) already exists.\n",
      "CONTEXT:  COPY homegames, line 1\n",
      "psql:<stdin>:466240: ERROR:  duplicate key value violates unique constraint \"managers_pkey\"\n",
      "DETAIL:  Key (yearid, teamid, inseason)=(1871, BS1, 1) already exists.\n",
      "CONTEXT:  COPY managers, line 1\n",
      "psql:<stdin>:466341: ERROR:  duplicate key value violates unique constraint \"managershalf_pkey\"\n",
      "DETAIL:  Key (yearid, teamid, playerid, half)=(1892, BLN, hanlone01, 1) already exists.\n",
      "CONTEXT:  COPY managershalf, line 1\n",
      "psql:<stdin>:466601: ERROR:  duplicate key value violates unique constraint \"parks_pkey\"\n",
      "DETAIL:  Key (park)=(ALB01) already exists.\n",
      "CONTEXT:  COPY parks, line 1\n",
      "psql:<stdin>:485979: ERROR:  duplicate key value violates unique constraint \"master_pkey\"\n",
      "DETAIL:  Key (playerid)=(aardsda01) already exists.\n",
      "CONTEXT:  COPY people, line 1\n",
      "psql:<stdin>:531793: ERROR:  duplicate key value violates unique constraint \"pitching_pkey\"\n",
      "DETAIL:  Key (playerid, yearid, stint)=(bechtge01, 1871, 1) already exists.\n",
      "CONTEXT:  COPY pitching, line 1\n",
      "psql:<stdin>:537246: ERROR:  duplicate key value violates unique constraint \"pitchingpost_pkey\"\n",
      "DETAIL:  Key (playerid, yearid, round)=(becanbu01, 1884, WS) already exists.\n",
      "CONTEXT:  COPY pitchingpost, line 1\n",
      "psql:<stdin>:563682: ERROR:  duplicate key value violates unique constraint \"salaries_pkey\"\n",
      "DETAIL:  Key (yearid, teamid, lgid, playerid)=(1985, ATL, NL, barkele01) already exists.\n",
      "CONTEXT:  COPY salaries, line 1\n",
      "psql:<stdin>:564897: ERROR:  duplicate key value violates unique constraint \"schools_pkey\"\n",
      "DETAIL:  Key (schoolid)=(abilchrist) already exists.\n",
      "CONTEXT:  COPY schools, line 1\n",
      "psql:<stdin>:565230: ERROR:  duplicate key value violates unique constraint \"seriespost_pkey\"\n",
      "DETAIL:  Key (yearid, round)=(1884, WS) already exists.\n",
      "CONTEXT:  COPY seriespost, line 1\n",
      "psql:<stdin>:568103: ERROR:  duplicate key value violates unique constraint \"teams_pkey\"\n",
      "DETAIL:  Key (yearid, lgid, teamid)=(1871, NA, BS1) already exists.\n",
      "CONTEXT:  COPY teams, line 1\n",
      "psql:<stdin>:568231: ERROR:  duplicate key value violates unique constraint \"teamsfranchises_pkey\"\n",
      "DETAIL:  Key (franchid)=(ALT) already exists.\n",
      "CONTEXT:  COPY teamsfranchises, line 1\n",
      "psql:<stdin>:568291: ERROR:  duplicate key value violates unique constraint \"teamshalf_pkey\"\n",
      "DETAIL:  Key (yearid, teamid, lgid, half)=(1981, ATL, NL, 1) already exists.\n",
      "CONTEXT:  COPY teamshalf, line 1\n",
      "psql:<stdin>:568299: ERROR:  multiple primary keys for table \"allstarfull\" are not allowed\n",
      "psql:<stdin>:568307: ERROR:  multiple primary keys for table \"appearances\" are not allowed\n",
      "psql:<stdin>:568315: ERROR:  multiple primary keys for table \"awardsmanagers\" are not allowed\n",
      "psql:<stdin>:568323: ERROR:  multiple primary keys for table \"awardsplayers\" are not allowed\n",
      "psql:<stdin>:568331: ERROR:  multiple primary keys for table \"awardssharemanagers\" are not allowed\n",
      "psql:<stdin>:568339: ERROR:  multiple primary keys for table \"awardsshareplayers\" are not allowed\n",
      "psql:<stdin>:568347: ERROR:  multiple primary keys for table \"batting\" are not allowed\n",
      "psql:<stdin>:568355: ERROR:  multiple primary keys for table \"battingpost\" are not allowed\n",
      "psql:<stdin>:568363: ERROR:  multiple primary keys for table \"collegeplaying\" are not allowed\n",
      "psql:<stdin>:568371: ERROR:  multiple primary keys for table \"fielding\" are not allowed\n",
      "psql:<stdin>:568379: ERROR:  multiple primary keys for table \"fieldingof\" are not allowed\n",
      "psql:<stdin>:568387: ERROR:  multiple primary keys for table \"fieldingpost\" are not allowed\n",
      "psql:<stdin>:568395: ERROR:  multiple primary keys for table \"halloffame\" are not allowed\n",
      "psql:<stdin>:568403: ERROR:  multiple primary keys for table \"homegames\" are not allowed\n",
      "psql:<stdin>:568411: ERROR:  multiple primary keys for table \"managers\" are not allowed\n",
      "psql:<stdin>:568419: ERROR:  multiple primary keys for table \"managershalf\" are not allowed\n",
      "psql:<stdin>:568427: ERROR:  multiple primary keys for table \"people\" are not allowed\n",
      "psql:<stdin>:568435: ERROR:  multiple primary keys for table \"parks\" are not allowed\n",
      "psql:<stdin>:568443: ERROR:  multiple primary keys for table \"pitching\" are not allowed\n",
      "psql:<stdin>:568451: ERROR:  multiple primary keys for table \"pitchingpost\" are not allowed\n",
      "psql:<stdin>:568459: ERROR:  multiple primary keys for table \"salaries\" are not allowed\n",
      "psql:<stdin>:568467: ERROR:  multiple primary keys for table \"schools\" are not allowed\n",
      "psql:<stdin>:568475: ERROR:  multiple primary keys for table \"seriespost\" are not allowed\n",
      "psql:<stdin>:568483: ERROR:  multiple primary keys for table \"teams\" are not allowed\n",
      "psql:<stdin>:568491: ERROR:  multiple primary keys for table \"teamsfranchises\" are not allowed\n",
      "psql:<stdin>:568499: ERROR:  multiple primary keys for table \"teamshalf\" are not allowed\n",
      "SET\n",
      "   postgresql://jovyan@127.0.0.1:5432/baseball\n",
      " * postgresql://jovyan@127.0.0.1:5432/postgres\n",
      "6 rows affected.\n"
     ]
    },
    {
     "data": {
      "text/html": [
       "<table>\n",
       "    <tr>\n",
       "        <th>Name</th>\n",
       "        <th>Owner</th>\n",
       "        <th>Encoding</th>\n",
       "        <th>Collate</th>\n",
       "        <th>Ctype</th>\n",
       "        <th>Access privileges</th>\n",
       "    </tr>\n",
       "    <tr>\n",
       "        <td>baseball</td>\n",
       "        <td>jovyan</td>\n",
       "        <td>UTF8</td>\n",
       "        <td>en_US.utf8</td>\n",
       "        <td>en_US.utf8</td>\n",
       "        <td>None</td>\n",
       "    </tr>\n",
       "    <tr>\n",
       "        <td>imdb</td>\n",
       "        <td>jovyan</td>\n",
       "        <td>UTF8</td>\n",
       "        <td>en_US.utf8</td>\n",
       "        <td>en_US.utf8</td>\n",
       "        <td>None</td>\n",
       "    </tr>\n",
       "    <tr>\n",
       "        <td>jovyan</td>\n",
       "        <td>jovyan</td>\n",
       "        <td>UTF8</td>\n",
       "        <td>en_US.utf8</td>\n",
       "        <td>en_US.utf8</td>\n",
       "        <td>None</td>\n",
       "    </tr>\n",
       "    <tr>\n",
       "        <td>postgres</td>\n",
       "        <td>jovyan</td>\n",
       "        <td>UTF8</td>\n",
       "        <td>en_US.utf8</td>\n",
       "        <td>en_US.utf8</td>\n",
       "        <td>None</td>\n",
       "    </tr>\n",
       "    <tr>\n",
       "        <td>template0</td>\n",
       "        <td>jovyan</td>\n",
       "        <td>UTF8</td>\n",
       "        <td>en_US.utf8</td>\n",
       "        <td>en_US.utf8</td>\n",
       "        <td>=c/jovyan<br>jovyan=CTc/jovyan</td>\n",
       "    </tr>\n",
       "    <tr>\n",
       "        <td>template1</td>\n",
       "        <td>jovyan</td>\n",
       "        <td>UTF8</td>\n",
       "        <td>en_US.utf8</td>\n",
       "        <td>en_US.utf8</td>\n",
       "        <td>=c/jovyan<br>jovyan=CTc/jovyan</td>\n",
       "    </tr>\n",
       "</table>"
      ],
      "text/plain": [
       "[('baseball', 'jovyan', 'UTF8', 'en_US.utf8', 'en_US.utf8', None),\n",
       " ('imdb', 'jovyan', 'UTF8', 'en_US.utf8', 'en_US.utf8', None),\n",
       " ('jovyan', 'jovyan', 'UTF8', 'en_US.utf8', 'en_US.utf8', None),\n",
       " ('postgres', 'jovyan', 'UTF8', 'en_US.utf8', 'en_US.utf8', None),\n",
       " ('template0',\n",
       "  'jovyan',\n",
       "  'UTF8',\n",
       "  'en_US.utf8',\n",
       "  'en_US.utf8',\n",
       "  '=c/jovyan\\njovyan=CTc/jovyan'),\n",
       " ('template1',\n",
       "  'jovyan',\n",
       "  'UTF8',\n",
       "  'en_US.utf8',\n",
       "  'en_US.utf8',\n",
       "  '=c/jovyan\\njovyan=CTc/jovyan')]"
      ]
     },
     "execution_count": 337,
     "metadata": {},
     "output_type": "execute_result"
    }
   ],
   "source": [
    "!psql -h localhost -c 'DROP DATABASE IF EXISTS baseball'\n",
    "!psql -h localhost -c 'CREATE DATABASE baseball'\n",
    "!gzip -dc data/lahman.pgdump.gz | psql -h localhost -d baseball -f -\n",
    "!psql -h localhost -c 'SET max_parallel_workers_per_gather = 0;'\n",
    "%sql \\l"
   ]
  },
  {
   "cell_type": "markdown",
   "metadata": {},
   "source": [
    "Now, run the following cell to connect to the `baseball` database. There should be no errors after running the following cell."
   ]
  },
  {
   "cell_type": "code",
   "execution_count": 338,
   "metadata": {},
   "outputs": [],
   "source": [
    "%sql postgresql://jovyan@127.0.0.1:5432/baseball"
   ]
  },
  {
   "cell_type": "markdown",
   "metadata": {},
   "source": [
    "To ensure that the connection to the database has been established, let's try grabbing the first 5 rows from the `halloffame` table."
   ]
  },
  {
   "cell_type": "code",
   "execution_count": 339,
   "metadata": {},
   "outputs": [
    {
     "name": "stdout",
     "output_type": "stream",
     "text": [
      " * postgresql://jovyan@127.0.0.1:5432/baseball\n",
      "   postgresql://jovyan@127.0.0.1:5432/postgres\n",
      "5 rows affected.\n"
     ]
    },
    {
     "data": {
      "text/html": [
       "<table>\n",
       "    <tr>\n",
       "        <th>playerid</th>\n",
       "        <th>yearid</th>\n",
       "        <th>votedby</th>\n",
       "        <th>ballots</th>\n",
       "        <th>needed</th>\n",
       "        <th>votes</th>\n",
       "        <th>inducted</th>\n",
       "        <th>category</th>\n",
       "        <th>needed_note</th>\n",
       "    </tr>\n",
       "    <tr>\n",
       "        <td>cobbty01</td>\n",
       "        <td>1936</td>\n",
       "        <td>BBWAA</td>\n",
       "        <td>226</td>\n",
       "        <td>170</td>\n",
       "        <td>222</td>\n",
       "        <td>Y</td>\n",
       "        <td>Player</td>\n",
       "        <td>None</td>\n",
       "    </tr>\n",
       "    <tr>\n",
       "        <td>ruthba01</td>\n",
       "        <td>1936</td>\n",
       "        <td>BBWAA</td>\n",
       "        <td>226</td>\n",
       "        <td>170</td>\n",
       "        <td>215</td>\n",
       "        <td>Y</td>\n",
       "        <td>Player</td>\n",
       "        <td>None</td>\n",
       "    </tr>\n",
       "    <tr>\n",
       "        <td>wagneho01</td>\n",
       "        <td>1936</td>\n",
       "        <td>BBWAA</td>\n",
       "        <td>226</td>\n",
       "        <td>170</td>\n",
       "        <td>215</td>\n",
       "        <td>Y</td>\n",
       "        <td>Player</td>\n",
       "        <td>None</td>\n",
       "    </tr>\n",
       "    <tr>\n",
       "        <td>mathech01</td>\n",
       "        <td>1936</td>\n",
       "        <td>BBWAA</td>\n",
       "        <td>226</td>\n",
       "        <td>170</td>\n",
       "        <td>205</td>\n",
       "        <td>Y</td>\n",
       "        <td>Player</td>\n",
       "        <td>None</td>\n",
       "    </tr>\n",
       "    <tr>\n",
       "        <td>johnswa01</td>\n",
       "        <td>1936</td>\n",
       "        <td>BBWAA</td>\n",
       "        <td>226</td>\n",
       "        <td>170</td>\n",
       "        <td>189</td>\n",
       "        <td>Y</td>\n",
       "        <td>Player</td>\n",
       "        <td>None</td>\n",
       "    </tr>\n",
       "</table>"
      ],
      "text/plain": [
       "[('cobbty01', 1936, 'BBWAA', 226, 170, 222, 'Y', 'Player', None),\n",
       " ('ruthba01', 1936, 'BBWAA', 226, 170, 215, 'Y', 'Player', None),\n",
       " ('wagneho01', 1936, 'BBWAA', 226, 170, 215, 'Y', 'Player', None),\n",
       " ('mathech01', 1936, 'BBWAA', 226, 170, 205, 'Y', 'Player', None),\n",
       " ('johnswa01', 1936, 'BBWAA', 226, 170, 189, 'Y', 'Player', None)]"
      ]
     },
     "execution_count": 339,
     "metadata": {},
     "output_type": "execute_result"
    }
   ],
   "source": [
    "%%sql\n",
    "SELECT * FROM halloffame LIMIT 5"
   ]
  },
  {
   "cell_type": "markdown",
   "metadata": {},
   "source": [
    "Run the following cell for grading purposes."
   ]
  },
  {
   "cell_type": "code",
   "execution_count": 340,
   "metadata": {},
   "outputs": [],
   "source": [
    "!mkdir -p results"
   ]
  },
  {
   "cell_type": "markdown",
   "metadata": {},
   "source": [
    "## Table Descriptions\n",
    "In its entirety the Lahman's Baseball Database contains 27 tables containing a variety of statistics for players, teams, games, schools, etc. For simplicity, this project will focus on a subset of the tables:\n",
    "* `appearances`: details on the positions each player appeared at\n",
    "* `batting`: batting statistics for each player\n",
    "* `collegeplaying`: list of players and the colleges they attended\n",
    "* `halloffame`: Hall of Fame voting data\n",
    "* `people`: player information (name, date of birth, and biographical info)\n",
    "* `salaries`: player salary data\n",
    "* `schools`: list of colleges that players attended\n",
    "\n",
    "As a reminder from Project 1, `%sql \\d <table_name>` is helpful for identifying the columns in a table."
   ]
  },
  {
   "cell_type": "markdown",
   "metadata": {
    "deletable": false,
    "editable": false
   },
   "source": [
    "## Question 0: PostgreSQL Explain Analyze\n",
    "**Please read through this section carefully, as a vast majority of the project will require you to inspect query plans via interpreting the output of the explain analyze command.**\n",
    "\n",
    "To inspect the query plan for a given query, create a variable storing the query as a string and invoke a `psql` shell command to `explain analyze` the query: \n",
    "\n",
    "`your_variable = \"__REPLACE_ME_WITH_QUERY__\"`\n",
    "\n",
    "`!psql -h localhost -d baseball -c \"explain analyze $your_variable\"`\n",
    "\n",
    "Take a look at the following sample query plan.\n",
    "\n",
    "![title](data/sample_query.png)\n",
    "\n",
    "It is highly recommended to read through [this article](https://www.cybertec-postgresql.com/en/how-to-interpret-postgresql-explain-analyze-output/) to see how you can interpret the output above. Everything before \"Tools to interpret Explain Analyze output\" is useful.\n",
    "\n",
    "Here are some key things to note:\n",
    "- There are two cost values: the first is the **startup cost** (cost to return the first row) and the second is the **total cost** (cost to return all rows).\n",
    "- The unit for the estimated query cost is arbitrary (1 is the cost for reading an 8kB page during a sequential scan)\n",
    "- When we ask you to identify the query cost, we are looking for the **total cost**\n",
    "- When we ask you to identify the query time, we are looking for the **execution time** (in ms)\n",
    "- Feel free to round the query cost / time to the nearest integer, but we'll accept anything more exact\n",
    "- We recognzie that the execution time may vary between different cell executions, so the autograder will tolerate a reasonable range\n",
    "\n",
    "Now, inspect the query plan above, and record the **cost** and **time** for the sample query.\n",
    "\n",
    "<!--\n",
    "BEGIN QUESTION\n",
    "name: q0\n",
    "points: 1\n",
    "-->"
   ]
  },
  {
   "cell_type": "code",
   "execution_count": 341,
   "metadata": {},
   "outputs": [
    {
     "name": "stdout",
     "output_type": "stream",
     "text": [
      "                                                         QUERY PLAN                                                          \r\n",
      "-----------------------------------------------------------------------------------------------------------------------------\r\n",
      " Hash Join  (cost=904.31..1274.57 rows=19346 width=167) (actual time=158.870..245.913 rows=17350 loops=1)\r\n",
      "   Hash Cond: ((cp.playerid)::text = (p.playerid)::text)\r\n",
      "   ->  Seq Scan on collegeplaying cp  (cost=0.00..319.46 rows=19346 width=21) (actual time=0.016..71.724 rows=17350 loops=1)\r\n",
      "   ->  Hash  (cost=650.25..650.25 rows=20325 width=146) (actual time=158.600..158.604 rows=19370 loops=1)\r\n",
      "         Buckets: 32768  Batches: 1  Memory Usage: 3633kB\r\n",
      "         ->  Seq Scan on people p  (cost=0.00..650.25 rows=20325 width=146) (actual time=0.017..147.432 rows=19370 loops=1)\r\n",
      " Planning Time: 1.793 ms\r\n",
      " Execution Time: 247.039 ms\r\n",
      "(8 rows)\r\n",
      "\r\n"
     ]
    }
   ],
   "source": [
    "sample_query = \"SELECT * FROM people AS p INNER JOIN collegeplaying AS cp ON p.playerid = cp.playerid\"\n",
    "!psql -h localhost -d baseball -c \"explain analyze $sample_query\""
   ]
  },
  {
   "cell_type": "code",
   "execution_count": 342,
   "metadata": {},
   "outputs": [],
   "source": [
    "sample_query_cost = 1193\n",
    "sample_query_timing = 185"
   ]
  },
  {
   "cell_type": "code",
   "execution_count": 343,
   "metadata": {
    "deletable": false,
    "editable": false
   },
   "outputs": [
    {
     "data": {
      "text/html": [
       "<p><strong><pre style='display: inline;'>q0</pre></strong> passed!</p>"
      ],
      "text/plain": [
       "q0 results: All test cases passed!"
      ]
     },
     "execution_count": 343,
     "metadata": {},
     "output_type": "execute_result"
    }
   ],
   "source": [
    "grader.check(\"q0\")"
   ]
  },
  {
   "cell_type": "markdown",
   "metadata": {},
   "source": [
    "## Question 1: Queries and Views\n",
    "### Question 1a:\n",
    "Write a query that finds `namefirst`, `namelast`, `playerid` and `yearid` of all people who were successfully inducted into the Hall of Fame. **Note**: Your query should **NOT** use any sub-queries."
   ]
  },
  {
   "cell_type": "code",
   "execution_count": 344,
   "metadata": {
    "scrolled": false
   },
   "outputs": [
    {
     "name": "stdout",
     "output_type": "stream",
     "text": [
      " * postgresql://jovyan@127.0.0.1:5432/baseball\n",
      "   postgresql://jovyan@127.0.0.1:5432/postgres\n",
      "323 rows affected.\n",
      "Returning data to local variable result_1a\n"
     ]
    }
   ],
   "source": [
    "%%sql result_1a <<\n",
    "SELECT namefirst, namelast, h.playerid, h.yearid\n",
    "FROM halloffame as h INNER JOIN people as p on h.playerid = p.playerid\n",
    "WHERE inducted = 'Y'"
   ]
  },
  {
   "cell_type": "code",
   "execution_count": 345,
   "metadata": {},
   "outputs": [],
   "source": [
    "# Do not delete/edit this cell\n",
    "result_1a.DataFrame().sort_values(['playerid', 'yearid']).to_csv('results/result_1a.csv', index=False)"
   ]
  },
  {
   "cell_type": "code",
   "execution_count": 346,
   "metadata": {
    "deletable": false,
    "editable": false
   },
   "outputs": [
    {
     "data": {
      "text/html": [
       "<p><strong><pre style='display: inline;'>q1a</pre></strong> passed!</p>"
      ],
      "text/plain": [
       "q1a results: All test cases passed!"
      ]
     },
     "execution_count": 346,
     "metadata": {},
     "output_type": "execute_result"
    }
   ],
   "source": [
    "grader.check(\"q1a\")"
   ]
  },
  {
   "cell_type": "markdown",
   "metadata": {},
   "source": [
    "### Question 1b:\n",
    "In this question, we will compare the query you wrote in `Question 1a` against the provided query in `Question 1bi` by inspecting the query plans.\n",
    "\n",
    "#### Question 1bi: \n",
    "Inspect the query plan for `provided_query` and the query you wrote in `Question 1a`. Record the **execution time** and **cost** for each query."
   ]
  },
  {
   "cell_type": "code",
   "execution_count": 347,
   "metadata": {},
   "outputs": [
    {
     "name": "stdout",
     "output_type": "stream",
     "text": [
      " * postgresql://jovyan@127.0.0.1:5432/baseball\n",
      "   postgresql://jovyan@127.0.0.1:5432/postgres\n",
      "323 rows affected.\n",
      "Returning data to local variable provided_query\n"
     ]
    }
   ],
   "source": [
    "%%sql provided_query <<\n",
    "SELECT namefirst, namelast, p.playerid, yearid\n",
    "FROM people AS p, (SELECT * FROM halloffame WHERE inducted = 'Y') AS hof \n",
    "WHERE p.playerid = hof.playerid;"
   ]
  },
  {
   "cell_type": "code",
   "execution_count": 348,
   "metadata": {
    "scrolled": false
   },
   "outputs": [
    {
     "name": "stdout",
     "output_type": "stream",
     "text": [
      "                                                       QUERY PLAN                                                        \r\n",
      "-------------------------------------------------------------------------------------------------------------------------\r\n",
      " Hash Join  (cost=904.31..1022.57 rows=390 width=25) (actual time=9.721..10.386 rows=323 loops=1)\r\n",
      "   Hash Cond: ((halloffame.playerid)::text = (p.playerid)::text)\r\n",
      "   ->  Seq Scan on halloffame  (cost=0.00..117.24 rows=390 width=13) (actual time=0.015..0.579 rows=323 loops=1)\r\n",
      "         Filter: ((inducted)::text = 'Y'::text)\r\n",
      "         Rows Removed by Filter: 3868\r\n",
      "   ->  Hash  (cost=650.25..650.25 rows=20325 width=21) (actual time=9.493..9.494 rows=19370 loops=1)\r\n",
      "         Buckets: 32768  Batches: 1  Memory Usage: 1293kB\r\n",
      "         ->  Seq Scan on people p  (cost=0.00..650.25 rows=20325 width=21) (actual time=0.009..4.921 rows=19370 loops=1)\r\n",
      " Planning Time: 0.988 ms\r\n",
      " Execution Time: 10.500 ms\r\n",
      "(10 rows)\r\n",
      "\r\n"
     ]
    }
   ],
   "source": [
    "provided_query_str = \"SELECT namefirst, namelast, p.playerid, yearid FROM people AS p, (SELECT * FROM halloffame WHERE inducted = 'Y') AS hof WHERE hof.inducted = 'Y' AND p.playerid = hof.playerid;\"\n",
    "!psql -h localhost -d baseball -c \"explain analyze $provided_query_str\""
   ]
  },
  {
   "cell_type": "code",
   "execution_count": 349,
   "metadata": {
    "scrolled": true
   },
   "outputs": [
    {
     "name": "stdout",
     "output_type": "stream",
     "text": [
      "                                                       QUERY PLAN                                                        \r\n",
      "-------------------------------------------------------------------------------------------------------------------------\r\n",
      " Hash Join  (cost=904.31..1022.57 rows=390 width=25) (actual time=9.611..10.329 rows=323 loops=1)\r\n",
      "   Hash Cond: ((h.playerid)::text = (p.playerid)::text)\r\n",
      "   ->  Seq Scan on halloffame h  (cost=0.00..117.24 rows=390 width=13) (actual time=0.014..0.624 rows=323 loops=1)\r\n",
      "         Filter: ((inducted)::text = 'Y'::text)\r\n",
      "         Rows Removed by Filter: 3868\r\n",
      "   ->  Hash  (cost=650.25..650.25 rows=20325 width=21) (actual time=9.433..9.434 rows=19370 loops=1)\r\n",
      "         Buckets: 32768  Batches: 1  Memory Usage: 1293kB\r\n",
      "         ->  Seq Scan on people p  (cost=0.00..650.25 rows=20325 width=21) (actual time=0.010..4.971 rows=19370 loops=1)\r\n",
      " Planning Time: 0.957 ms\r\n",
      " Execution Time: 10.432 ms\r\n",
      "(10 rows)\r\n",
      "\r\n"
     ]
    }
   ],
   "source": [
    "inducted_hof_query_str = \"SELECT namefirst, namelast, h.playerid, h.yearid FROM halloffame as h INNER JOIN people as p on h.playerid = p.playerid WHERE inducted = 'Y'\"\n",
    "!psql -h localhost -d baseball -c \"explain analyze $inducted_hof_query_str\""
   ]
  },
  {
   "cell_type": "code",
   "execution_count": 350,
   "metadata": {},
   "outputs": [],
   "source": [
    "provided_query_cost = 959.06\n",
    "provided_query_timing = 24.795\n",
    "your_query_cost = 959.06\n",
    "your_query_timing = 13.625"
   ]
  },
  {
   "cell_type": "code",
   "execution_count": 351,
   "metadata": {
    "deletable": false,
    "editable": false,
    "scrolled": true
   },
   "outputs": [
    {
     "data": {
      "text/html": [
       "<p><strong><pre style='display: inline;'>q1bi</pre></strong> passed!</p>"
      ],
      "text/plain": [
       "q1bi results: All test cases passed!"
      ]
     },
     "execution_count": 351,
     "metadata": {},
     "output_type": "execute_result"
    }
   ],
   "source": [
    "grader.check(\"q1bi\")"
   ]
  },
  {
   "cell_type": "markdown",
   "metadata": {
    "deletable": false,
    "editable": false
   },
   "source": [
    "#### Question 1bii:\n",
    "Given your findings from inspecting the query plans of the two queries, answer the following question. Assign the variable `q1b_part2` to a list of answer choices which are true statements.\n",
    "\n",
    "1. Consider the following statements:\n",
    "    1. Both the queries have the same cost.\n",
    "    1. The provided query has a faster execution time because it makes use of a subquery.\n",
    "    1. The query you wrote has a faster execution time because it does not make use a subquery.\n",
    "    1. The provided query has less cost because it makes use of a subquery.\n",
    "    1. The query you wrote has less cost because it does not make use a subquery.\n",
    "    1. The queries have the same output.\n",
    "    1. The queries do not have the same output.\n",
    "    \n",
    "**Note:** Your answer should look like `q1b_part2 = ['A', 'B']`\n",
    "\n",
    "<!--\n",
    "BEGIN QUESTION\n",
    "name: q1bii\n",
    "points: 2\n",
    "-->"
   ]
  },
  {
   "cell_type": "code",
   "execution_count": 352,
   "metadata": {},
   "outputs": [],
   "source": [
    "q1b_part2 = ['A','C','F']"
   ]
  },
  {
   "cell_type": "code",
   "execution_count": 353,
   "metadata": {
    "deletable": false,
    "editable": false
   },
   "outputs": [
    {
     "data": {
      "text/html": [
       "<p><strong><pre style='display: inline;'>q1bii</pre></strong> passed!</p>"
      ],
      "text/plain": [
       "q1bii results: All test cases passed!"
      ]
     },
     "execution_count": 353,
     "metadata": {},
     "output_type": "execute_result"
    }
   ],
   "source": [
    "grader.check(\"q1bii\")"
   ]
  },
  {
   "cell_type": "markdown",
   "metadata": {},
   "source": [
    "### Question 1c:\n",
    "Write a query that creates a view named `inducted_hof_ca` of the people who were successfully inducted into the Hall of Fame and played in college at a school located in California. For each player, return their `namefirst`, `namelast`, `playerid`, `schoolid`, and `yearid` ordered by the `yearid` and then the `playerid`. \n",
    "\n",
    "**Note**: For this query, `yearid` refers to player's year of induction into the Hall of Fame."
   ]
  },
  {
   "cell_type": "code",
   "execution_count": 354,
   "metadata": {
    "scrolled": true
   },
   "outputs": [
    {
     "name": "stdout",
     "output_type": "stream",
     "text": [
      " * postgresql://jovyan@127.0.0.1:5432/baseball\n",
      "   postgresql://jovyan@127.0.0.1:5432/postgres\n",
      "Done.\n",
      "Done.\n",
      "23 rows affected.\n",
      "Returning data to local variable result_1c\n"
     ]
    }
   ],
   "source": [
    "%%sql result_1c <<\n",
    "DROP VIEW IF EXISTS inducted_hof_ca CASCADE;\n",
    "CREATE VIEW inducted_hof_ca AS\n",
    "SELECT p.namefirst, p.namelast,p.playerid ,j.schoolid, j.yearid\n",
    "FROM People AS p INNER JOIN \n",
    "(SELECT h.playerid, c.schoolid, h.yearid\n",
    "FROM halloffame AS h INNER JOIN \n",
    " (SELECT c.playerid, c.schoolid, c.yearid\n",
    "FROM schools AS s INNER JOIN collegeplaying AS c on s.schoolid = c.schoolid\n",
    "WHERE schoolstate = 'CA') AS c on h.playerid = c.playerid\n",
    "WHERE inducted = 'Y') AS j ON p.playerid = j.playerid \n",
    "ORDER BY yearid,playerid;\n",
    "\n",
    "SELECT * FROM inducted_hof_ca;\n"
   ]
  },
  {
   "cell_type": "code",
   "execution_count": 355,
   "metadata": {},
   "outputs": [],
   "source": [
    "# Do not delete/edit this cell\n",
    "result_1c.DataFrame().sort_values(['playerid', 'schoolid', 'yearid']).to_csv('results/result_1c.csv', index=False)"
   ]
  },
  {
   "cell_type": "code",
   "execution_count": 356,
   "metadata": {
    "deletable": false,
    "editable": false
   },
   "outputs": [
    {
     "data": {
      "text/html": [
       "<p><strong><pre style='display: inline;'>q1c</pre></strong> passed!</p>"
      ],
      "text/plain": [
       "q1c results: All test cases passed!"
      ]
     },
     "execution_count": 356,
     "metadata": {},
     "output_type": "execute_result"
    }
   ],
   "source": [
    "grader.check(\"q1c\")"
   ]
  },
  {
   "cell_type": "markdown",
   "metadata": {},
   "source": [
    "### Question 1d:\n",
    "For this question, we want to compute the count of players who were inducted into the Hall of Fame and played baseball at a college in California for each `schoolid` and `yearid` combination ordered by ascending `yearid`.\n",
    "\n",
    "#### Question 1di:\n",
    "Write two queries that accomplish this task -- one query using the view you created in the `Question 1c` and one query that does not use the view, common table expressions (CTEs), or any sub-queries."
   ]
  },
  {
   "cell_type": "code",
   "execution_count": 357,
   "metadata": {
    "scrolled": true
   },
   "outputs": [
    {
     "name": "stdout",
     "output_type": "stream",
     "text": [
      " * postgresql://jovyan@127.0.0.1:5432/baseball\n",
      "   postgresql://jovyan@127.0.0.1:5432/postgres\n",
      "13 rows affected.\n",
      "Returning data to local variable with_view\n"
     ]
    }
   ],
   "source": [
    "%%sql with_view <<\n",
    "\n",
    "SELECT schoolid, yearid, count(*)\n",
    "FROM inducted_hof_ca\n",
    "GROUP BY schoolid, yearid\n",
    "ORDER BY yearid"
   ]
  },
  {
   "cell_type": "code",
   "execution_count": 358,
   "metadata": {
    "scrolled": true
   },
   "outputs": [
    {
     "name": "stdout",
     "output_type": "stream",
     "text": [
      " * postgresql://jovyan@127.0.0.1:5432/baseball\n",
      "   postgresql://jovyan@127.0.0.1:5432/postgres\n",
      "13 rows affected.\n",
      "Returning data to local variable without_view\n"
     ]
    }
   ],
   "source": [
    "%%sql without_view <<\n",
    "SELECT a.schoolid, a.yearid, count(*)\n",
    "FROM (SELECT p.namefirst, p.namelast,p.playerid ,j.schoolid, j.yearid\n",
    "FROM People AS p INNER JOIN \n",
    "(SELECT h.playerid, c.schoolid, h.yearid\n",
    "FROM halloffame AS h INNER JOIN \n",
    " (SELECT c.playerid, c.schoolid, c.yearid\n",
    "FROM schools AS s INNER JOIN collegeplaying AS c on s.schoolid = c.schoolid\n",
    "WHERE schoolstate = 'CA') AS c on h.playerid = c.playerid\n",
    "WHERE inducted = 'Y') AS j ON p.playerid = j.playerid \n",
    "ORDER BY yearid,playerid) AS a\n",
    "GROUP BY schoolid, yearid\n",
    "ORDER BY yearid"
   ]
  },
  {
   "cell_type": "code",
   "execution_count": 359,
   "metadata": {},
   "outputs": [],
   "source": [
    "# Do not delete/edit this cell\n",
    "with_view.DataFrame().sort_values(['schoolid', 'yearid']).to_csv('results/result_1di_view.csv', index=False)\n",
    "without_view.DataFrame().sort_values(['schoolid', 'yearid']).to_csv('results/result_1di_no_view.csv', index=False)"
   ]
  },
  {
   "cell_type": "code",
   "execution_count": 360,
   "metadata": {
    "deletable": false,
    "editable": false
   },
   "outputs": [
    {
     "data": {
      "text/html": [
       "<p><strong><pre style='display: inline;'>q1di</pre></strong> passed!</p>"
      ],
      "text/plain": [
       "q1di results: All test cases passed!"
      ]
     },
     "execution_count": 360,
     "metadata": {},
     "output_type": "execute_result"
    }
   ],
   "source": [
    "grader.check(\"q1di\")"
   ]
  },
  {
   "cell_type": "markdown",
   "metadata": {},
   "source": [
    "#### Question 1dii:\n",
    "Fill in your queries from `Question 1di` and inspect the query plans for the two queries. Record the execution time and cost for each query."
   ]
  },
  {
   "cell_type": "code",
   "execution_count": 361,
   "metadata": {},
   "outputs": [
    {
     "name": "stdout",
     "output_type": "stream",
     "text": [
      "                                                                             QUERY PLAN                                                                              \r\n",
      "---------------------------------------------------------------------------------------------------------------------------------------------------------------------\r\n",
      " GroupAggregate  (cost=613.88..621.50 rows=116 width=20) (actual time=5.699..5.711 rows=13 loops=1)\r\n",
      "   Group Key: inducted_hof_ca.yearid, inducted_hof_ca.schoolid\r\n",
      "   ->  Incremental Sort  (cost=613.88..619.47 rows=116 width=12) (actual time=5.693..5.697 rows=23 loops=1)\r\n",
      "         Sort Key: inducted_hof_ca.yearid, inducted_hof_ca.schoolid\r\n",
      "         Presorted Key: inducted_hof_ca.yearid\r\n",
      "         Full-sort Groups: 1  Sort Method: quicksort  Average Memory: 26kB  Peak Memory: 26kB\r\n",
      "         ->  Subquery Scan on inducted_hof_ca  (cost=613.85..615.30 rows=116 width=12) (actual time=5.651..5.658 rows=23 loops=1)\r\n",
      "               ->  Sort  (cost=613.85..614.14 rows=116 width=257) (actual time=5.650..5.654 rows=23 loops=1)\r\n",
      "                     Sort Key: h.yearid, p.playerid\r\n",
      "                     Sort Method: quicksort  Memory: 26kB\r\n",
      "                     ->  Nested Loop  (cost=450.63..609.87 rows=116 width=257) (actual time=5.220..5.635 rows=23 loops=1)\r\n",
      "                           Join Filter: ((h.playerid)::text = (p.playerid)::text)\r\n",
      "                           ->  Hash Join  (cost=450.34..570.69 rows=116 width=30) (actual time=5.185..5.522 rows=23 loops=1)\r\n",
      "                                 Hash Cond: ((h.playerid)::text = (c.playerid)::text)\r\n",
      "                                 ->  Seq Scan on halloffame h  (cost=0.00..117.24 rows=390 width=13) (actual time=0.020..0.565 rows=323 loops=1)\r\n",
      "                                       Filter: ((inducted)::text = 'Y'::text)\r\n",
      "                                       Rows Removed by Filter: 3868\r\n",
      "                                 ->  Hash  (cost=423.04..423.04 rows=2184 width=17) (actual time=4.869..4.870 rows=2948 loops=1)\r\n",
      "                                       Buckets: 4096  Batches: 1  Memory Usage: 178kB\r\n",
      "                                       ->  Hash Join  (cost=52.70..423.04 rows=2184 width=17) (actual time=0.323..4.192 rows=2948 loops=1)\r\n",
      "                                             Hash Cond: ((c.schoolid)::text = (s.schoolid)::text)\r\n",
      "                                             ->  Seq Scan on collegeplaying c  (cost=0.00..319.46 rows=19346 width=17) (actual time=0.011..1.425 rows=17350 loops=1)\r\n",
      "                                             ->  Hash  (cost=49.69..49.69 rows=241 width=8) (actual time=0.295..0.295 rows=136 loops=1)\r\n",
      "                                                   Buckets: 1024  Batches: 1  Memory Usage: 14kB\r\n",
      "                                                   ->  Seq Scan on schools s  (cost=0.00..49.69 rows=241 width=8) (actual time=0.017..0.210 rows=136 loops=1)\r\n",
      "                                                         Filter: ((schoolstate)::text = 'CA'::text)\r\n",
      "                                                         Rows Removed by Filter: 1071\r\n",
      "                           ->  Index Only Scan using master_pkey on people p  (cost=0.29..0.33 rows=1 width=9) (actual time=0.004..0.004 rows=1 loops=23)\r\n",
      "                                 Index Cond: (playerid = (c.playerid)::text)\r\n",
      "                                 Heap Fetches: 0\r\n",
      " Planning Time: 22.945 ms\r\n",
      " Execution Time: 5.895 ms\r\n",
      "(32 rows)\r\n",
      "\r\n"
     ]
    }
   ],
   "source": [
    "with_view_query_str = 'SELECT schoolid, yearid, count(*) FROM inducted_hof_ca GROUP BY schoolid, yearid ORDER BY yearid'\n",
    "!psql -h localhost -d baseball -c \"explain analyze $with_view_query_str\""
   ]
  },
  {
   "cell_type": "code",
   "execution_count": 362,
   "metadata": {},
   "outputs": [
    {
     "name": "stdout",
     "output_type": "stream",
     "text": [
      "                                                                             QUERY PLAN                                                                              \r\n",
      "---------------------------------------------------------------------------------------------------------------------------------------------------------------------\r\n",
      " GroupAggregate  (cost=613.88..621.50 rows=116 width=20) (actual time=5.599..5.611 rows=13 loops=1)\r\n",
      "   Group Key: a.yearid, a.schoolid\r\n",
      "   ->  Incremental Sort  (cost=613.88..619.47 rows=116 width=12) (actual time=5.594..5.598 rows=23 loops=1)\r\n",
      "         Sort Key: a.yearid, a.schoolid\r\n",
      "         Presorted Key: a.yearid\r\n",
      "         Full-sort Groups: 1  Sort Method: quicksort  Average Memory: 26kB  Peak Memory: 26kB\r\n",
      "         ->  Subquery Scan on a  (cost=613.85..615.30 rows=116 width=12) (actual time=5.541..5.548 rows=23 loops=1)\r\n",
      "               ->  Sort  (cost=613.85..614.14 rows=116 width=257) (actual time=5.540..5.544 rows=23 loops=1)\r\n",
      "                     Sort Key: h.yearid, p.playerid\r\n",
      "                     Sort Method: quicksort  Memory: 26kB\r\n",
      "                     ->  Nested Loop  (cost=450.63..609.87 rows=116 width=257) (actual time=5.020..5.519 rows=23 loops=1)\r\n",
      "                           Join Filter: ((h.playerid)::text = (p.playerid)::text)\r\n",
      "                           ->  Hash Join  (cost=450.34..570.69 rows=116 width=30) (actual time=4.973..5.363 rows=23 loops=1)\r\n",
      "                                 Hash Cond: ((h.playerid)::text = (c.playerid)::text)\r\n",
      "                                 ->  Seq Scan on halloffame h  (cost=0.00..117.24 rows=390 width=13) (actual time=0.034..0.606 rows=323 loops=1)\r\n",
      "                                       Filter: ((inducted)::text = 'Y'::text)\r\n",
      "                                       Rows Removed by Filter: 3868\r\n",
      "                                 ->  Hash  (cost=423.04..423.04 rows=2184 width=17) (actual time=4.663..4.664 rows=2948 loops=1)\r\n",
      "                                       Buckets: 4096  Batches: 1  Memory Usage: 178kB\r\n",
      "                                       ->  Hash Join  (cost=52.70..423.04 rows=2184 width=17) (actual time=0.261..3.960 rows=2948 loops=1)\r\n",
      "                                             Hash Cond: ((c.schoolid)::text = (s.schoolid)::text)\r\n",
      "                                             ->  Seq Scan on collegeplaying c  (cost=0.00..319.46 rows=19346 width=17) (actual time=0.014..1.399 rows=17350 loops=1)\r\n",
      "                                             ->  Hash  (cost=49.69..49.69 rows=241 width=8) (actual time=0.228..0.228 rows=136 loops=1)\r\n",
      "                                                   Buckets: 1024  Batches: 1  Memory Usage: 14kB\r\n",
      "                                                   ->  Seq Scan on schools s  (cost=0.00..49.69 rows=241 width=8) (actual time=0.015..0.201 rows=136 loops=1)\r\n",
      "                                                         Filter: ((schoolstate)::text = 'CA'::text)\r\n",
      "                                                         Rows Removed by Filter: 1071\r\n",
      "                           ->  Index Only Scan using master_pkey on people p  (cost=0.29..0.33 rows=1 width=9) (actual time=0.006..0.006 rows=1 loops=23)\r\n",
      "                                 Index Cond: (playerid = (c.playerid)::text)\r\n",
      "                                 Heap Fetches: 0\r\n",
      " Planning Time: 2.510 ms\r\n",
      " Execution Time: 5.767 ms\r\n",
      "(32 rows)\r\n",
      "\r\n"
     ]
    }
   ],
   "source": [
    "without_view_query_str = \"SELECT a.schoolid, a.yearid, count(*) FROM (SELECT p.namefirst, p.namelast,p.playerid ,j.schoolid, j.yearid FROM People AS p INNER JOIN  (SELECT h.playerid, c.schoolid, h.yearid FROM halloffame AS h INNER JOIN  (SELECT c.playerid, c.schoolid, c.yearid FROM schools AS s INNER JOIN collegeplaying AS c on s.schoolid = c.schoolid WHERE schoolstate = 'CA') AS c on h.playerid = c.playerid WHERE inducted = 'Y') AS j ON p.playerid = j.playerid  ORDER BY yearid,playerid) AS a GROUP BY schoolid, yearid ORDER BY yearid\"\n",
    "!psql -h localhost -d baseball -c\"explain analyze $without_view_query_str\""
   ]
  },
  {
   "cell_type": "code",
   "execution_count": 363,
   "metadata": {},
   "outputs": [],
   "source": [
    "with_view_cost = 547.39\n",
    "with_view_timing = 6.461 \n",
    "without_view_cost = 547.39\n",
    "without_view_timing = 9.334"
   ]
  },
  {
   "cell_type": "code",
   "execution_count": 364,
   "metadata": {
    "deletable": false,
    "editable": false
   },
   "outputs": [
    {
     "data": {
      "text/html": [
       "<p><strong><pre style='display: inline;'>q1dii</pre></strong> passed!</p>"
      ],
      "text/plain": [
       "q1dii results: All test cases passed!"
      ]
     },
     "execution_count": 364,
     "metadata": {},
     "output_type": "execute_result"
    }
   ],
   "source": [
    "grader.check(\"q1dii\")"
   ]
  },
  {
   "cell_type": "markdown",
   "metadata": {},
   "source": [
    "### Question 1e:\n",
    "#### Question 1ei:\n",
    "Now, let's try creating a materialized view named `inducted_hof_ca_mat` instead of the regular view from `Question 1c`."
   ]
  },
  {
   "cell_type": "code",
   "execution_count": 365,
   "metadata": {},
   "outputs": [
    {
     "name": "stdout",
     "output_type": "stream",
     "text": [
      " * postgresql://jovyan@127.0.0.1:5432/baseball\n",
      "   postgresql://jovyan@127.0.0.1:5432/postgres\n",
      "Done.\n",
      "23 rows affected.\n",
      "23 rows affected.\n",
      "Returning data to local variable inducted_hof_ca_materialized\n"
     ]
    }
   ],
   "source": [
    "%%sql inducted_hof_ca_materialized <<\n",
    "DROP MATERIALIZED VIEW IF EXISTS inducted_hof_ca_mat;\n",
    "CREATE MATERIALIZED VIEW inducted_hof_ca_mat AS\n",
    "SELECT p.namefirst, p.namelast,p.playerid ,j.schoolid, j.yearid\n",
    "FROM People AS p INNER JOIN \n",
    "(SELECT h.playerid, c.schoolid, h.yearid\n",
    "FROM halloffame AS h INNER JOIN \n",
    " (SELECT c.playerid, c.schoolid, c.yearid\n",
    "FROM schools AS s INNER JOIN collegeplaying AS c on s.schoolid = c.schoolid\n",
    "WHERE schoolstate = 'CA') AS c on h.playerid = c.playerid\n",
    "WHERE inducted = 'Y') AS j ON p.playerid = j.playerid \n",
    "ORDER BY yearid,playerid;\n",
    "\n",
    "SELECT * FROM inducted_hof_ca_mat;"
   ]
  },
  {
   "cell_type": "code",
   "execution_count": 366,
   "metadata": {},
   "outputs": [],
   "source": [
    "# Do not delete/edit this cell\n",
    "inducted_hof_ca_materialized.DataFrame().sort_values(['playerid', 'schoolid', 'yearid']).to_csv('results/result_1ei.csv', index=False)"
   ]
  },
  {
   "cell_type": "code",
   "execution_count": 367,
   "metadata": {
    "deletable": false,
    "editable": false
   },
   "outputs": [
    {
     "data": {
      "text/html": [
       "<p><strong><pre style='display: inline;'>q1ei</pre></strong> passed!</p>"
      ],
      "text/plain": [
       "q1ei results: All test cases passed!"
      ]
     },
     "execution_count": 367,
     "metadata": {},
     "output_type": "execute_result"
    }
   ],
   "source": [
    "grader.check(\"q1ei\")"
   ]
  },
  {
   "cell_type": "markdown",
   "metadata": {},
   "source": [
    "#### Question 1eii:\n",
    "\n",
    "Now, rewrite the query from `Question 1d` to use the materialized view `inducted_hof_ca_mat`."
   ]
  },
  {
   "cell_type": "code",
   "execution_count": 368,
   "metadata": {
    "scrolled": false
   },
   "outputs": [
    {
     "name": "stdout",
     "output_type": "stream",
     "text": [
      " * postgresql://jovyan@127.0.0.1:5432/baseball\n",
      "   postgresql://jovyan@127.0.0.1:5432/postgres\n",
      "Done.\n",
      "13 rows affected.\n",
      "13 rows affected.\n",
      "Returning data to local variable with_materialized_view\n"
     ]
    }
   ],
   "source": [
    "%%sql with_materialized_view <<\n",
    "DROP MATERIALIZED VIEW IF EXISTS inducted_hof_ca_mat;\n",
    "CREATE MATERIALIZED VIEW inducted_hof_ca_mat AS\n",
    "SELECT schoolid, yearid, count(*)\n",
    "FROM inducted_hof_ca\n",
    "GROUP BY schoolid, yearid\n",
    "ORDER BY yearid;\n",
    "\n",
    "SELECT * FROM inducted_hof_ca_mat;"
   ]
  },
  {
   "cell_type": "code",
   "execution_count": 369,
   "metadata": {
    "scrolled": false
   },
   "outputs": [],
   "source": [
    "# Do not delete/edit this cell\n",
    "with_materialized_view.DataFrame().sort_values(['schoolid', 'yearid']).to_csv('results/result_1eii.csv', index=False)"
   ]
  },
  {
   "cell_type": "code",
   "execution_count": 370,
   "metadata": {
    "deletable": false,
    "editable": false
   },
   "outputs": [
    {
     "data": {
      "text/html": [
       "<p><strong><pre style='display: inline;'>q1eii</pre></strong> passed!</p>"
      ],
      "text/plain": [
       "q1eii results: All test cases passed!"
      ]
     },
     "execution_count": 370,
     "metadata": {},
     "output_type": "execute_result"
    }
   ],
   "source": [
    "grader.check(\"q1eii\")"
   ]
  },
  {
   "cell_type": "markdown",
   "metadata": {},
   "source": [
    "#### Question 1eiii:\n",
    "Inspect the query plan and record the execution time and cost of the query that uses the materialized view."
   ]
  },
  {
   "cell_type": "code",
   "execution_count": 371,
   "metadata": {
    "scrolled": true
   },
   "outputs": [
    {
     "name": "stdout",
     "output_type": "stream",
     "text": [
      "                                                                             QUERY PLAN                                                                              \r\n",
      "---------------------------------------------------------------------------------------------------------------------------------------------------------------------\r\n",
      " GroupAggregate  (cost=613.88..621.50 rows=116 width=20) (actual time=5.295..5.304 rows=13 loops=1)\r\n",
      "   Group Key: inducted_hof_ca.yearid, inducted_hof_ca.schoolid\r\n",
      "   ->  Incremental Sort  (cost=613.88..619.47 rows=116 width=12) (actual time=5.290..5.294 rows=23 loops=1)\r\n",
      "         Sort Key: inducted_hof_ca.yearid, inducted_hof_ca.schoolid\r\n",
      "         Presorted Key: inducted_hof_ca.yearid\r\n",
      "         Full-sort Groups: 1  Sort Method: quicksort  Average Memory: 26kB  Peak Memory: 26kB\r\n",
      "         ->  Subquery Scan on inducted_hof_ca  (cost=613.85..615.30 rows=116 width=12) (actual time=5.254..5.260 rows=23 loops=1)\r\n",
      "               ->  Sort  (cost=613.85..614.14 rows=116 width=257) (actual time=5.253..5.256 rows=23 loops=1)\r\n",
      "                     Sort Key: h.yearid, p.playerid\r\n",
      "                     Sort Method: quicksort  Memory: 26kB\r\n",
      "                     ->  Nested Loop  (cost=450.63..609.87 rows=116 width=257) (actual time=4.770..5.235 rows=23 loops=1)\r\n",
      "                           Join Filter: ((h.playerid)::text = (p.playerid)::text)\r\n",
      "                           ->  Hash Join  (cost=450.34..570.69 rows=116 width=30) (actual time=4.744..5.128 rows=23 loops=1)\r\n",
      "                                 Hash Cond: ((h.playerid)::text = (c.playerid)::text)\r\n",
      "                                 ->  Seq Scan on halloffame h  (cost=0.00..117.24 rows=390 width=13) (actual time=0.014..0.578 rows=323 loops=1)\r\n",
      "                                       Filter: ((inducted)::text = 'Y'::text)\r\n",
      "                                       Rows Removed by Filter: 3868\r\n",
      "                                 ->  Hash  (cost=423.04..423.04 rows=2184 width=17) (actual time=4.479..4.480 rows=2948 loops=1)\r\n",
      "                                       Buckets: 4096  Batches: 1  Memory Usage: 178kB\r\n",
      "                                       ->  Hash Join  (cost=52.70..423.04 rows=2184 width=17) (actual time=0.267..3.809 rows=2948 loops=1)\r\n",
      "                                             Hash Cond: ((c.schoolid)::text = (s.schoolid)::text)\r\n",
      "                                             ->  Seq Scan on collegeplaying c  (cost=0.00..319.46 rows=19346 width=17) (actual time=0.009..1.285 rows=17350 loops=1)\r\n",
      "                                             ->  Hash  (cost=49.69..49.69 rows=241 width=8) (actual time=0.233..0.234 rows=136 loops=1)\r\n",
      "                                                   Buckets: 1024  Batches: 1  Memory Usage: 14kB\r\n",
      "                                                   ->  Seq Scan on schools s  (cost=0.00..49.69 rows=241 width=8) (actual time=0.015..0.207 rows=136 loops=1)\r\n",
      "                                                         Filter: ((schoolstate)::text = 'CA'::text)\r\n",
      "                                                         Rows Removed by Filter: 1071\r\n",
      "                           ->  Index Only Scan using master_pkey on people p  (cost=0.29..0.33 rows=1 width=9) (actual time=0.004..0.004 rows=1 loops=23)\r\n",
      "                                 Index Cond: (playerid = (c.playerid)::text)\r\n",
      "                                 Heap Fetches: 0\r\n",
      " Planning Time: 2.572 ms\r\n",
      " Execution Time: 5.441 ms\r\n",
      "(32 rows)\r\n",
      "\r\n"
     ]
    }
   ],
   "source": [
    "with_materialized_view_query_str = \"SELECT schoolid, yearid, count(*) FROM inducted_hof_ca GROUP BY schoolid, yearid ORDER BY yearid;\"\n",
    "!psql -h localhost -d baseball -c \"explain analyze $with_materialized_view_query_str\""
   ]
  },
  {
   "cell_type": "code",
   "execution_count": 372,
   "metadata": {},
   "outputs": [],
   "source": [
    "with_materialized_view_cost = 547.39\n",
    "with_materialized_view_timing =  6.001"
   ]
  },
  {
   "cell_type": "code",
   "execution_count": 373,
   "metadata": {
    "deletable": false,
    "editable": false
   },
   "outputs": [
    {
     "data": {
      "text/html": [
       "<p><strong><pre style='display: inline;'>q1eiii</pre></strong> passed!</p>"
      ],
      "text/plain": [
       "q1eiii results: All test cases passed!"
      ]
     },
     "execution_count": 373,
     "metadata": {},
     "output_type": "execute_result"
    }
   ],
   "source": [
    "grader.check(\"q1eiii\")"
   ]
  },
  {
   "cell_type": "markdown",
   "metadata": {
    "deletable": false,
    "editable": false
   },
   "source": [
    "#### Question 1eiv:\n",
    "Given your findings from inspecting the query plans, as well as your understanding of views and materialized views from lectures, answer the following question. Assign the variable `q1e_part4` to a list of all statements which are true.\n",
    "\n",
    "1. Consider the following statements:\n",
    "    1. Views will reduce the execution time and the cost of a query.\n",
    "    1. Views will reduce the execution time of a query, but not the cost.\n",
    "    1. Views will reduce the cost of a query, but not the execution time.\n",
    "    1. Materialized views reduce the execution time and the cost of a query.\n",
    "    1. Materialized views reduce the execution time, but not cost of a query.\n",
    "    1. Materialized views reduce the cost of a query, but not the execution time.\n",
    "    1. Materialized views will result in the same query plan as a query using views.\n",
    "    1. Materialized views and views take the same time to create.\n",
    "    1. Materialized views take less time to create than a view.\n",
    "    1. Materialized views take more time to create than a view.\n",
    "    \n",
    "*Note:* Your answer should look like `q1e_part4 = ['A', 'B']`\n",
    "\n",
    "<!--\n",
    "BEGIN QUESTION\n",
    "name: q1eiv\n",
    "points: 2\n",
    "-->"
   ]
  },
  {
   "cell_type": "code",
   "execution_count": 374,
   "metadata": {},
   "outputs": [],
   "source": [
    "with_view_cost = 547.39\n",
    "with_view_timing = 6.461 \n",
    "without_view_cost = 547.39\n",
    "without_view_timing = 9.334\n",
    "with_materialized_view_cost = 547.39\n",
    "with_materialized_view_timing =  6.001"
   ]
  },
  {
   "cell_type": "code",
   "execution_count": 375,
   "metadata": {},
   "outputs": [],
   "source": [
    "q1e_part4 = ['E','I']"
   ]
  },
  {
   "cell_type": "code",
   "execution_count": 376,
   "metadata": {
    "deletable": false,
    "editable": false
   },
   "outputs": [
    {
     "data": {
      "text/html": [
       "<p><strong><pre style='display: inline;'>q1eiv</pre></strong> passed!</p>"
      ],
      "text/plain": [
       "q1eiv results: All test cases passed!"
      ]
     },
     "execution_count": 376,
     "metadata": {},
     "output_type": "execute_result"
    }
   ],
   "source": [
    "grader.check(\"q1eiv\")"
   ]
  },
  {
   "cell_type": "markdown",
   "metadata": {
    "deletable": false,
    "editable": false
   },
   "source": [
    "<!-- BEGIN QUESTION -->\n",
    "\n",
    "#### Question 1ev:\n",
    "\n",
    "Explain your answer to the previous part based on your knowledge from lectures, and details from the query plans (your explanation should include why you didn't choose certain options).\n",
    "\n",
    "<!--\n",
    "BEGIN QUESTION\n",
    "name: q1ev\n",
    "manual: true\n",
    "points: 2\n",
    "-->"
   ]
  },
  {
   "cell_type": "markdown",
   "metadata": {},
   "source": [
    "Because regular view does not store output on the disk and runs the same query so it has same query cost and same performance. On the other hand, materialized view stores output on the disk so it takes more memory which leads to having high query cost but it is faster at executing queries because the underlying query does not need to be rerun each time the view is called so it has low execution time."
   ]
  },
  {
   "cell_type": "markdown",
   "metadata": {},
   "source": [
    "<!-- END QUESTION -->\n",
    "\n",
    "\n",
    "\n",
    "## Question 2: Predicate Pushdown\n",
    "In this question, we will explore the impact of predicates on a query's execution, particularly inspecting when the optimizer applies predicates.\n",
    "\n",
    "### Question 2a:\n",
    "Recall the `inducted_hof_ca` created in `Question 1c`. Inspect the query plan for a query that that gets all rows from the view, and record the execution time and cost."
   ]
  },
  {
   "cell_type": "code",
   "execution_count": 377,
   "metadata": {},
   "outputs": [
    {
     "name": "stdout",
     "output_type": "stream",
     "text": [
      "                                                                    QUERY PLAN                                                                     \r\n",
      "---------------------------------------------------------------------------------------------------------------------------------------------------\r\n",
      " Sort  (cost=624.04..624.33 rows=116 width=33) (actual time=6.144..6.148 rows=23 loops=1)\r\n",
      "   Sort Key: h.yearid, p.playerid\r\n",
      "   Sort Method: quicksort  Memory: 26kB\r\n",
      "   ->  Nested Loop  (cost=450.63..620.06 rows=116 width=33) (actual time=5.596..6.104 rows=23 loops=1)\r\n",
      "         Join Filter: ((h.playerid)::text = (p.playerid)::text)\r\n",
      "         ->  Hash Join  (cost=450.34..570.69 rows=116 width=30) (actual time=5.556..5.907 rows=23 loops=1)\r\n",
      "               Hash Cond: ((h.playerid)::text = (c.playerid)::text)\r\n",
      "               ->  Seq Scan on halloffame h  (cost=0.00..117.24 rows=390 width=13) (actual time=0.015..0.645 rows=323 loops=1)\r\n",
      "                     Filter: ((inducted)::text = 'Y'::text)\r\n",
      "                     Rows Removed by Filter: 3868\r\n",
      "               ->  Hash  (cost=423.04..423.04 rows=2184 width=17) (actual time=5.180..5.182 rows=2948 loops=1)\r\n",
      "                     Buckets: 4096  Batches: 1  Memory Usage: 178kB\r\n",
      "                     ->  Hash Join  (cost=52.70..423.04 rows=2184 width=17) (actual time=0.243..4.479 rows=2948 loops=1)\r\n",
      "                           Hash Cond: ((c.schoolid)::text = (s.schoolid)::text)\r\n",
      "                           ->  Seq Scan on collegeplaying c  (cost=0.00..319.46 rows=19346 width=17) (actual time=0.009..1.563 rows=17350 loops=1)\r\n",
      "                           ->  Hash  (cost=49.69..49.69 rows=241 width=8) (actual time=0.219..0.219 rows=136 loops=1)\r\n",
      "                                 Buckets: 1024  Batches: 1  Memory Usage: 14kB\r\n",
      "                                 ->  Seq Scan on schools s  (cost=0.00..49.69 rows=241 width=8) (actual time=0.014..0.189 rows=136 loops=1)\r\n",
      "                                       Filter: ((schoolstate)::text = 'CA'::text)\r\n",
      "                                       Rows Removed by Filter: 1071\r\n",
      "         ->  Index Scan using master_pkey on people p  (cost=0.29..0.41 rows=1 width=21) (actual time=0.008..0.008 rows=1 loops=23)\r\n",
      "               Index Cond: ((playerid)::text = (c.playerid)::text)\r\n",
      " Planning Time: 2.675 ms\r\n",
      " Execution Time: 6.246 ms\r\n",
      "(24 rows)\r\n",
      "\r\n"
     ]
    }
   ],
   "source": [
    "query_view_str = \"SELECT p.namefirst, p.namelast,p.playerid ,j.schoolid, j.yearid FROM People AS p INNER JOIN (SELECT h.playerid, c.schoolid, h.yearid FROM halloffame AS h INNER JOIN  (SELECT c.playerid, c.schoolid, c.yearid FROM schools AS s INNER JOIN collegeplaying AS c on s.schoolid = c.schoolid WHERE schoolstate = 'CA') AS c on h.playerid = c.playerid WHERE inducted = 'Y') AS j ON p.playerid = j.playerid ORDER BY yearid,playerid;\"\n",
    "!psql -h localhost -d baseball -c \"explain analyze $query_view_str\""
   ]
  },
  {
   "cell_type": "code",
   "execution_count": 378,
   "metadata": {},
   "outputs": [],
   "source": [
    "query_view_cost = 530.78\n",
    "query_view_timing = 6.411"
   ]
  },
  {
   "cell_type": "code",
   "execution_count": 379,
   "metadata": {
    "deletable": false,
    "editable": false
   },
   "outputs": [
    {
     "data": {
      "text/html": [
       "<p><strong><pre style='display: inline;'>q2a</pre></strong> passed!</p>"
      ],
      "text/plain": [
       "q2a results: All test cases passed!"
      ]
     },
     "execution_count": 379,
     "metadata": {},
     "output_type": "execute_result"
    }
   ],
   "source": [
    "grader.check(\"q2a\")"
   ]
  },
  {
   "cell_type": "markdown",
   "metadata": {},
   "source": [
    "### Question 2b:\n",
    "Now, add a filter to only return rows from `inducted_hof_ca` where the year is later than 2010. Inspect the query plan and record the execution time and cost."
   ]
  },
  {
   "cell_type": "code",
   "execution_count": 380,
   "metadata": {},
   "outputs": [
    {
     "name": "stdout",
     "output_type": "stream",
     "text": [
      " * postgresql://jovyan@127.0.0.1:5432/baseball\n",
      "   postgresql://jovyan@127.0.0.1:5432/postgres\n",
      "8 rows affected.\n",
      "Returning data to local variable result_2b\n"
     ]
    }
   ],
   "source": [
    "%%sql result_2b <<\n",
    "SELECT *\n",
    "FROM inducted_hof_ca\n",
    "WHERE yearid > 2010;"
   ]
  },
  {
   "cell_type": "code",
   "execution_count": 381,
   "metadata": {
    "scrolled": true
   },
   "outputs": [
    {
     "name": "stdout",
     "output_type": "stream",
     "text": [
      "                                                                             QUERY PLAN                                                                              \r\n",
      "---------------------------------------------------------------------------------------------------------------------------------------------------------------------\r\n",
      " Sort  (cost=274.84..274.86 rows=8 width=33) (actual time=1.200..1.202 rows=8 loops=1)\r\n",
      "   Sort Key: h.yearid, p.playerid\r\n",
      "   Sort Method: quicksort  Memory: 25kB\r\n",
      "   ->  Nested Loop  (cost=0.85..274.72 rows=8 width=33) (actual time=0.710..1.158 rows=8 loops=1)\r\n",
      "         Join Filter: ((h.playerid)::text = (p.playerid)::text)\r\n",
      "         ->  Nested Loop  (cost=0.57..271.31 rows=8 width=30) (actual time=0.683..1.078 rows=8 loops=1)\r\n",
      "               ->  Nested Loop  (cost=0.29..250.50 rows=68 width=30) (actual time=0.666..0.963 rows=27 loops=1)\r\n",
      "                     ->  Seq Scan on halloffame h  (cost=0.00..129.88 rows=26 width=13) (actual time=0.632..0.715 rows=31 loops=1)\r\n",
      "                           Filter: ((yearid > 2010) AND ((inducted)::text = 'Y'::text))\r\n",
      "                           Rows Removed by Filter: 4160\r\n",
      "                     ->  Index Only Scan using collegeplaying_pkey on collegeplaying c  (cost=0.29..4.61 rows=3 width=17) (actual time=0.007..0.007 rows=1 loops=31)\r\n",
      "                           Index Cond: (playerid = (h.playerid)::text)\r\n",
      "                           Heap Fetches: 0\r\n",
      "               ->  Index Scan using schools_pkey on schools s  (cost=0.28..0.31 rows=1 width=8) (actual time=0.004..0.004 rows=0 loops=27)\r\n",
      "                     Index Cond: ((schoolid)::text = (c.schoolid)::text)\r\n",
      "                     Filter: ((schoolstate)::text = 'CA'::text)\r\n",
      "                     Rows Removed by Filter: 1\r\n",
      "         ->  Index Scan using master_pkey on people p  (cost=0.29..0.41 rows=1 width=21) (actual time=0.009..0.009 rows=1 loops=8)\r\n",
      "               Index Cond: ((playerid)::text = (c.playerid)::text)\r\n",
      " Planning Time: 3.378 ms\r\n",
      " Execution Time: 1.328 ms\r\n",
      "(21 rows)\r\n",
      "\r\n"
     ]
    }
   ],
   "source": [
    "query_view_with_filter_str = \"SELECT * FROM inducted_hof_ca WHERE yearid > 2010;\"\n",
    "!psql -h localhost -d baseball -c \"explain analyze $query_view_with_filter_str\""
   ]
  },
  {
   "cell_type": "code",
   "execution_count": 382,
   "metadata": {},
   "outputs": [],
   "source": [
    "query_view_with_filter_cost = 209.93\n",
    "query_view_with_filter_timing = 1.223"
   ]
  },
  {
   "cell_type": "code",
   "execution_count": 383,
   "metadata": {
    "deletable": false,
    "editable": false
   },
   "outputs": [
    {
     "data": {
      "text/html": [
       "<p><strong><pre style='display: inline;'>q2b</pre></strong> passed!</p>"
      ],
      "text/plain": [
       "q2b results: All test cases passed!"
      ]
     },
     "execution_count": 383,
     "metadata": {},
     "output_type": "execute_result"
    }
   ],
   "source": [
    "grader.check(\"q2b\")"
   ]
  },
  {
   "cell_type": "markdown",
   "metadata": {
    "deletable": false,
    "editable": false
   },
   "source": [
    "### Question 2c:\n",
    "Given your findings from inspecting the query plans of queries from `Question 2a-b`, answer the following question. Assign the variable `q2c` to a list of all statements which are true.\n",
    "\n",
    "1. Consider the following statements:\n",
    "    1. Adding a filter lowered the cost.\n",
    "    1. Adding a filter increased the cost.\n",
    "    1. Adding a filter did not change the cost.\n",
    "    1. Adding a filter increased the execution time.\n",
    "    1. Adding a filter decreased the execution time.\n",
    "    1. Adding a filter did not change the execution time.\n",
    "    1. No statement is true.\n",
    "    \n",
    "    \n",
    "**Note:** Your answer should look like `q2c = ['A', 'B']`\n",
    "\n",
    "<!--\n",
    "BEGIN QUESTION\n",
    "name: q2c\n",
    "points: 2\n",
    "-->"
   ]
  },
  {
   "cell_type": "code",
   "execution_count": 384,
   "metadata": {},
   "outputs": [],
   "source": [
    "q2c = ['A','E']"
   ]
  },
  {
   "cell_type": "code",
   "execution_count": 385,
   "metadata": {
    "deletable": false,
    "editable": false
   },
   "outputs": [
    {
     "data": {
      "text/html": [
       "<p><strong><pre style='display: inline;'>q2c</pre></strong> passed!</p>"
      ],
      "text/plain": [
       "q2c results: All test cases passed!"
      ]
     },
     "execution_count": 385,
     "metadata": {},
     "output_type": "execute_result"
    }
   ],
   "source": [
    "grader.check(\"q2c\")"
   ]
  },
  {
   "cell_type": "markdown",
   "metadata": {
    "deletable": false,
    "editable": false
   },
   "source": [
    "<!-- BEGIN QUESTION -->\n",
    "\n",
    "#### Question 2d:\n",
    "\n",
    "Explain your answer based on your knowledge from lectures, and details from the query plans (your explanation should include why you didn't choose certain options).\n",
    "\n",
    "<!--\n",
    "BEGIN QUESTION\n",
    "name: q2d\n",
    "manual: true\n",
    "points: 2\n",
    "-->"
   ]
  },
  {
   "cell_type": "markdown",
   "metadata": {},
   "source": [
    "Filtering pushes down the WHERE predicate into the view before the join, which reduces the table size for the view to join, thereby saving query cost. "
   ]
  },
  {
   "cell_type": "markdown",
   "metadata": {},
   "source": [
    "<!-- END QUESTION -->\n",
    "\n",
    "\n",
    "\n",
    "## Question 3: Join Approaches\n",
    "\n",
    "In this question, we'll explore different join approaches (Nested Loop Join, Merge Join, Hash Join) and discuss how the query optimizer picks the best approach.\n",
    "\n",
    "### Question 3a:\n",
    "Perform an inner join on the `people` and `collegeplaying` tables on the `playerid` column. Project all columns."
   ]
  },
  {
   "cell_type": "code",
   "execution_count": 386,
   "metadata": {},
   "outputs": [
    {
     "name": "stdout",
     "output_type": "stream",
     "text": [
      " * postgresql://jovyan@127.0.0.1:5432/baseball\n",
      "   postgresql://jovyan@127.0.0.1:5432/postgres\n",
      "17350 rows affected.\n",
      "Returning data to local variable q3a_join\n"
     ]
    }
   ],
   "source": [
    "%%sql q3a_join <<\n",
    "SELECT *\n",
    "FROM people p INNER JOIN collegeplaying c ON p.playerid = c.playerid;"
   ]
  },
  {
   "cell_type": "markdown",
   "metadata": {},
   "source": [
    "Inspect the query plan for the query you wrote above."
   ]
  },
  {
   "cell_type": "code",
   "execution_count": 387,
   "metadata": {},
   "outputs": [
    {
     "name": "stdout",
     "output_type": "stream",
     "text": [
      "                                                        QUERY PLAN                                                         \r\n",
      "---------------------------------------------------------------------------------------------------------------------------\r\n",
      " Hash Join  (cost=904.31..1274.57 rows=19346 width=167) (actual time=11.313..26.036 rows=17350 loops=1)\r\n",
      "   Hash Cond: ((c.playerid)::text = (p.playerid)::text)\r\n",
      "   ->  Seq Scan on collegeplaying c  (cost=0.00..319.46 rows=19346 width=21) (actual time=0.012..2.037 rows=17350 loops=1)\r\n",
      "   ->  Hash  (cost=650.25..650.25 rows=20325 width=146) (actual time=11.109..11.112 rows=19370 loops=1)\r\n",
      "         Buckets: 32768  Batches: 1  Memory Usage: 3633kB\r\n",
      "         ->  Seq Scan on people p  (cost=0.00..650.25 rows=20325 width=146) (actual time=0.010..2.866 rows=19370 loops=1)\r\n",
      " Planning Time: 1.227 ms\r\n",
      " Execution Time: 26.969 ms\r\n",
      "(8 rows)\r\n",
      "\r\n"
     ]
    }
   ],
   "source": [
    "q3a_query_str = \"SELECT * FROM people p INNER JOIN collegeplaying c ON p.playerid = c.playerid;\"\n",
    "!psql -h localhost -d baseball -c \"explain analyze $q3a_query_str\""
   ]
  },
  {
   "cell_type": "markdown",
   "metadata": {
    "deletable": false,
    "editable": false
   },
   "source": [
    "Given your findings from inspecting the query plan, answer the following question. Assign the variable `q3a` to a list of all the options which are true for the proposed statement.\n",
    "\n",
    "1. Which join approach did the query optimizer choose?\n",
    "    1. Nested Loop Join\n",
    "    1. Merge Join\n",
    "    1. Hash Join\n",
    "    1. None of the Above\n",
    "\n",
    "**Note:** Your answer should be formatted as follows: `q3a = ['A', 'B']`\n",
    "\n",
    "<!--\n",
    "BEGIN QUESTION\n",
    "name: q3a\n",
    "points: 1\n",
    "-->"
   ]
  },
  {
   "cell_type": "code",
   "execution_count": 388,
   "metadata": {},
   "outputs": [],
   "source": [
    "q3a = ['C']"
   ]
  },
  {
   "cell_type": "code",
   "execution_count": 389,
   "metadata": {
    "deletable": false,
    "editable": false
   },
   "outputs": [
    {
     "data": {
      "text/html": [
       "<p><strong><pre style='display: inline;'>q3a</pre></strong> passed!</p>"
      ],
      "text/plain": [
       "q3a results: All test cases passed!"
      ]
     },
     "execution_count": 389,
     "metadata": {},
     "output_type": "execute_result"
    }
   ],
   "source": [
    "grader.check(\"q3a\")"
   ]
  },
  {
   "cell_type": "markdown",
   "metadata": {},
   "source": [
    "### Question 3b\n",
    "\n",
    "Similar to Question 3a, perform an inner join on the `people` and `collegeplaying` tables on the `playerid` column. Project all columns.\n",
    "\n",
    "In addition, **sort your output by `playerid`.**"
   ]
  },
  {
   "cell_type": "code",
   "execution_count": 390,
   "metadata": {
    "scrolled": true
   },
   "outputs": [
    {
     "name": "stdout",
     "output_type": "stream",
     "text": [
      " * postgresql://jovyan@127.0.0.1:5432/baseball\n",
      "   postgresql://jovyan@127.0.0.1:5432/postgres\n",
      "17350 rows affected.\n",
      "Returning data to local variable q3b_join\n"
     ]
    }
   ],
   "source": [
    "%%sql q3b_join <<\n",
    "SELECT *\n",
    "FROM people p INNER JOIN collegeplaying c ON p.playerid = c.playerid\n",
    "ORDER BY p.playerid;"
   ]
  },
  {
   "cell_type": "markdown",
   "metadata": {},
   "source": [
    "Inspect the query plan for the query you wrote above."
   ]
  },
  {
   "cell_type": "code",
   "execution_count": 391,
   "metadata": {},
   "outputs": [
    {
     "name": "stdout",
     "output_type": "stream",
     "text": [
      "                                                                         QUERY PLAN                                                                         \r\n",
      "------------------------------------------------------------------------------------------------------------------------------------------------------------\r\n",
      " Merge Join  (cost=0.57..2034.58 rows=19346 width=167) (actual time=0.050..17.605 rows=17350 loops=1)\r\n",
      "   Merge Cond: ((p.playerid)::text = (c.playerid)::text)\r\n",
      "   ->  Index Scan using master_pkey on people p  (cost=0.29..1059.71 rows=20325 width=146) (actual time=0.012..3.965 rows=19368 loops=1)\r\n",
      "   ->  Index Only Scan using collegeplaying_pkey on collegeplaying c  (cost=0.29..682.23 rows=19346 width=21) (actual time=0.033..2.650 rows=17350 loops=1)\r\n",
      "         Heap Fetches: 117\r\n",
      " Planning Time: 0.932 ms\r\n",
      " Execution Time: 18.234 ms\r\n",
      "(7 rows)\r\n",
      "\r\n"
     ]
    }
   ],
   "source": [
    "q3b_query_str = \"SELECT * FROM people p INNER JOIN collegeplaying c ON p.playerid = c.playerid ORDER BY p.playerid;\"\n",
    "!psql -h localhost -d baseball -c \"explain analyze $q3b_query_str\""
   ]
  },
  {
   "cell_type": "markdown",
   "metadata": {
    "deletable": false,
    "editable": false
   },
   "source": [
    "Given your findings from inspecting the query plan, answer the following question. Assign the variable `q3b` to a list of all the options which are true for the proposed statement.\n",
    "\n",
    "1. Which join approach did the query optimizer choose?\n",
    "    1. Nested Loop Join\n",
    "    1. Merge Join\n",
    "    1. Hash Join\n",
    "    1. None of the Above\n",
    "\n",
    "**Note:** Your answer should be formatted as follows: `q3b = ['A', 'B']`\n",
    "\n",
    "<!--\n",
    "BEGIN QUESTION\n",
    "name: q3b\n",
    "points: 1\n",
    "-->"
   ]
  },
  {
   "cell_type": "code",
   "execution_count": 392,
   "metadata": {},
   "outputs": [],
   "source": [
    "q3b = ['B']"
   ]
  },
  {
   "cell_type": "code",
   "execution_count": 393,
   "metadata": {
    "deletable": false,
    "editable": false
   },
   "outputs": [
    {
     "data": {
      "text/html": [
       "<p><strong><pre style='display: inline;'>q3b</pre></strong> passed!</p>"
      ],
      "text/plain": [
       "q3b results: All test cases passed!"
      ]
     },
     "execution_count": 393,
     "metadata": {},
     "output_type": "execute_result"
    }
   ],
   "source": [
    "grader.check(\"q3b\")"
   ]
  },
  {
   "cell_type": "markdown",
   "metadata": {},
   "source": [
    "### Question 3c\n",
    "Write a query to retrieve all possible player pair combinations. Project all columns, but **limit to 1000 rows** to ensure your query doesn't take an exorbitant amount of time to run.\n",
    "\n",
    "**Hint:** You can do this by performing an inner join of the `people` table on itself with an inequality condition."
   ]
  },
  {
   "cell_type": "code",
   "execution_count": 394,
   "metadata": {
    "scrolled": true
   },
   "outputs": [
    {
     "name": "stdout",
     "output_type": "stream",
     "text": [
      " * postgresql://jovyan@127.0.0.1:5432/baseball\n",
      "   postgresql://jovyan@127.0.0.1:5432/postgres\n",
      "1000 rows affected.\n",
      "Returning data to local variable q3c_join\n"
     ]
    }
   ],
   "source": [
    "%%sql q3c_join <<\n",
    "SELECT *\n",
    "FROM people p1 INNER JOIN people p2 ON p1.playerid != p2.playerid\n",
    "LIMIT 1000;"
   ]
  },
  {
   "cell_type": "markdown",
   "metadata": {},
   "source": [
    "Inspect the query plan for the query you wrote above."
   ]
  },
  {
   "cell_type": "code",
   "execution_count": 395,
   "metadata": {},
   "outputs": [
    {
     "name": "stdout",
     "output_type": "stream",
     "text": [
      "                                                           QUERY PLAN                                                           \r\n",
      "--------------------------------------------------------------------------------------------------------------------------------\r\n",
      " Limit  (cost=0.00..15.00 rows=1000 width=292) (actual time=0.045..0.942 rows=1000 loops=1)\r\n",
      "   ->  Nested Loop  (cost=0.00..6197935.69 rows=413085300 width=292) (actual time=0.044..0.880 rows=1000 loops=1)\r\n",
      "         Join Filter: ((p1.playerid)::text <> (p2.playerid)::text)\r\n",
      "         Rows Removed by Join Filter: 1\r\n",
      "         ->  Seq Scan on people p1  (cost=0.00..650.25 rows=20325 width=146) (actual time=0.027..0.027 rows=1 loops=1)\r\n",
      "         ->  Materialize  (cost=0.00..751.88 rows=20325 width=146) (actual time=0.009..0.459 rows=1001 loops=1)\r\n",
      "               ->  Seq Scan on people p2  (cost=0.00..650.25 rows=20325 width=146) (actual time=0.001..0.122 rows=1001 loops=1)\r\n",
      " Planning Time: 0.842 ms\r\n",
      " Execution Time: 1.105 ms\r\n",
      "(9 rows)\r\n",
      "\r\n"
     ]
    }
   ],
   "source": [
    "q3c_query_str = \"SELECT * FROM people p1 INNER JOIN people p2 ON p1.playerid != p2.playerid LIMIT 1000;\"\n",
    "!psql -h localhost -d baseball -c \"explain analyze $q3c_query_str\""
   ]
  },
  {
   "cell_type": "markdown",
   "metadata": {
    "deletable": false,
    "editable": false
   },
   "source": [
    "Given your findings from inspecting the query plan, answer the following question. Assign the variable `q3c` to a list of all the options which are true for the proposed statement.\n",
    "\n",
    "1. Which join approach did the query optimizer choose?\n",
    "    1. Nested Loop Join\n",
    "    1. Merge Join\n",
    "    1. Hash Join\n",
    "    1. None of the Above\n",
    "\n",
    "**Note:** Your answer should be formatted as follows: `q3c = ['A', 'B']`\n",
    "\n",
    "<!--\n",
    "BEGIN QUESTION\n",
    "name: q3c\n",
    "points: 1\n",
    "-->"
   ]
  },
  {
   "cell_type": "code",
   "execution_count": 396,
   "metadata": {},
   "outputs": [],
   "source": [
    "q3c = ['A']"
   ]
  },
  {
   "cell_type": "code",
   "execution_count": 397,
   "metadata": {
    "deletable": false,
    "editable": false
   },
   "outputs": [
    {
     "data": {
      "text/html": [
       "<p><strong><pre style='display: inline;'>q3c</pre></strong> passed!</p>"
      ],
      "text/plain": [
       "q3c results: All test cases passed!"
      ]
     },
     "execution_count": 397,
     "metadata": {},
     "output_type": "execute_result"
    }
   ],
   "source": [
    "grader.check(\"q3c\")"
   ]
  },
  {
   "cell_type": "markdown",
   "metadata": {
    "deletable": false,
    "editable": false
   },
   "source": [
    "<!-- BEGIN QUESTION -->\n",
    "\n",
    "### Question 3d\n",
    "Please discuss your findings in the previous parts. In particular, we are interested in hearing why you think the query optimizer chooses the ultimate join approach in each of the above three scenarios. Feel free to discuss the pros and cons of each join approach as well.\n",
    "\n",
    "If you feel stuck, here are some things to consider: Does a non-equijoin constrain us to certain join approaches? What's an added benefit in regards to the output of merge join?\n",
    "\n",
    "<!--\n",
    "BEGIN QUESTION\n",
    "name: q3d\n",
    "manual: true\n",
    "points: 3\n",
    "-->"
   ]
  },
  {
   "cell_type": "markdown",
   "metadata": {},
   "source": [
    "In 3a, the query optimizer chose Hash join because it is the fastest join among other joins when input tables are quite large and no adequate indexes exist on them.\n",
    "In 3b, the optimizer chose to do Merge Join because the query required to be sorted by playerid and Merge Join requires the input data to be sorted, therefore, it chose Merge Join. \n",
    "In 3c, the optimizer chose to do Nested Loop join because it needs to go through every row to get the possible combinations of player using non-equijoin where other joins can not compare inequality condition. "
   ]
  },
  {
   "cell_type": "markdown",
   "metadata": {},
   "source": [
    "<!-- END QUESTION -->\n",
    "\n",
    "\n",
    "\n",
    "## Question 4: Indexes\n",
    "\n",
    "### Question 4a:\n",
    "Write a query that outputs the `playerid` and average `salary` for each player that only batted in 10 games (the number of games in which a player batted can be found in the `g_batting` column of the `appearances` table). Your query should join the `salaries` and `appearances` table on all the common columns `yearid`, `teamid`, and `playerid`, so feel free to use a natural join."
   ]
  },
  {
   "cell_type": "code",
   "execution_count": null,
   "metadata": {},
   "outputs": [],
   "source": []
  },
  {
   "cell_type": "code",
   "execution_count": 398,
   "metadata": {
    "scrolled": true
   },
   "outputs": [
    {
     "name": "stdout",
     "output_type": "stream",
     "text": [
      " * postgresql://jovyan@127.0.0.1:5432/baseball\n",
      "   postgresql://jovyan@127.0.0.1:5432/postgres\n",
      "134 rows affected.\n",
      "Returning data to local variable result_4a\n"
     ]
    }
   ],
   "source": [
    "%%sql result_4a <<\n",
    "SELECT playerid, AVG(salary)\n",
    "FROM appearances NATURAL JOIN salaries \n",
    "WHERE g_batting = 10\n",
    "GROUP BY playerid\n"
   ]
  },
  {
   "cell_type": "code",
   "execution_count": 399,
   "metadata": {},
   "outputs": [],
   "source": [
    "# Do not delete/edit this cell\n",
    "result_4a.DataFrame().sort_values('playerid').to_csv('results/result_4a.csv', index=False)"
   ]
  },
  {
   "cell_type": "code",
   "execution_count": 400,
   "metadata": {
    "deletable": false,
    "editable": false
   },
   "outputs": [
    {
     "data": {
      "text/html": [
       "<p><strong><pre style='display: inline;'>q4ai</pre></strong> passed!</p>"
      ],
      "text/plain": [
       "q4ai results: All test cases passed!"
      ]
     },
     "execution_count": 400,
     "metadata": {},
     "output_type": "execute_result"
    }
   ],
   "source": [
    "grader.check(\"q4ai\")"
   ]
  },
  {
   "cell_type": "markdown",
   "metadata": {},
   "source": [
    "Inspect the query plan and record the execution time and cost."
   ]
  },
  {
   "cell_type": "code",
   "execution_count": 401,
   "metadata": {},
   "outputs": [
    {
     "name": "stdout",
     "output_type": "stream",
     "text": [
      "                                                                                                                     QUERY PLAN                                                                                                                      \r\n",
      "-----------------------------------------------------------------------------------------------------------------------------------------------------------------------------------------------------------------------------------------------------\r\n",
      " GroupAggregate  (cost=4731.98..4732.00 rows=1 width=17) (actual time=19.895..19.978 rows=134 loops=1)\r\n",
      "   Group Key: appearances.playerid\r\n",
      "   ->  Sort  (cost=4731.98..4731.98 rows=1 width=17) (actual time=19.884..19.895 rows=138 loops=1)\r\n",
      "         Sort Key: appearances.playerid\r\n",
      "         Sort Method: quicksort  Memory: 35kB\r\n",
      "         ->  Merge Join  (cost=1723.11..4731.97 rows=1 width=17) (actual time=5.080..19.672 rows=138 loops=1)\r\n",
      "               Merge Cond: ((salaries.yearid = appearances.yearid) AND ((salaries.teamid)::text = (appearances.teamid)::text) AND ((salaries.lgid)::text = (appearances.lgid)::text) AND ((salaries.playerid)::text = (appearances.playerid)::text))\r\n",
      "               ->  Index Scan using salaries_pkey on salaries  (cost=0.42..35255.03 rows=326428 width=27) (actual time=0.046..10.528 rows=26429 loops=1)\r\n",
      "               ->  Sort  (cost=1712.57..1715.97 rows=1361 width=20) (actual time=4.598..4.718 rows=1347 loops=1)\r\n",
      "                     Sort Key: appearances.yearid, appearances.teamid, appearances.lgid, appearances.playerid\r\n",
      "                     Sort Method: quicksort  Memory: 154kB\r\n",
      "                     ->  Bitmap Heap Scan on appearances  (cost=18.84..1641.73 rows=1361 width=20) (actual time=0.351..3.059 rows=1347 loops=1)\r\n",
      "                           Recheck Cond: (g_batting = 10)\r\n",
      "                           Heap Blocks: exact=899\r\n",
      "                           ->  Bitmap Index Scan on g_batting_g_all_idx  (cost=0.00..18.50 rows=1361 width=0) (actual time=0.212..0.213 rows=1347 loops=1)\r\n",
      "                                 Index Cond: (g_batting = 10)\r\n",
      " Planning Time: 1.666 ms\r\n",
      " Execution Time: 20.164 ms\r\n",
      "(18 rows)\r\n",
      "\r\n"
     ]
    }
   ],
   "source": [
    "result_4a_query_str = \"SELECT playerid, AVG(salary) FROM appearances NATURAL JOIN salaries WHERE g_batting = 10 GROUP BY playerid\"\n",
    "!psql -h localhost -d baseball -c \"explain analyze $result_4a_query_str\""
   ]
  },
  {
   "cell_type": "code",
   "execution_count": 402,
   "metadata": {},
   "outputs": [],
   "source": [
    "result_4a_cost = 3636.97\n",
    "result_4a_timing = 22.475"
   ]
  },
  {
   "cell_type": "code",
   "execution_count": 403,
   "metadata": {
    "deletable": false,
    "editable": false
   },
   "outputs": [
    {
     "data": {
      "text/html": [
       "<p><strong><pre style='display: inline;'>q4aii</pre></strong> passed!</p>"
      ],
      "text/plain": [
       "q4aii results: All test cases passed!"
      ]
     },
     "execution_count": 403,
     "metadata": {},
     "output_type": "execute_result"
    }
   ],
   "source": [
    "grader.check(\"q4aii\")"
   ]
  },
  {
   "cell_type": "markdown",
   "metadata": {},
   "source": [
    "### Question 4b:\n",
    "Add an index with name `g_batting_idx` on the `g_batting` column of the `appearances` table."
   ]
  },
  {
   "cell_type": "code",
   "execution_count": 404,
   "metadata": {
    "scrolled": true
   },
   "outputs": [
    {
     "name": "stdout",
     "output_type": "stream",
     "text": [
      " * postgresql://jovyan@127.0.0.1:5432/baseball\n",
      "   postgresql://jovyan@127.0.0.1:5432/postgres\n",
      "Done.\n",
      "Returning data to local variable result_4b\n"
     ]
    }
   ],
   "source": [
    "%%sql result_4b <<\n",
    "CREATE INDEX g_batting_idx\n",
    "ON appearances(g_batting)"
   ]
  },
  {
   "cell_type": "markdown",
   "metadata": {},
   "source": [
    "Now, re-inspect the query plan of the query from `Question 4a` and record its execution time and cost."
   ]
  },
  {
   "cell_type": "code",
   "execution_count": 405,
   "metadata": {},
   "outputs": [
    {
     "name": "stdout",
     "output_type": "stream",
     "text": [
      "                                                                                                                     QUERY PLAN                                                                                                                      \r\n",
      "-----------------------------------------------------------------------------------------------------------------------------------------------------------------------------------------------------------------------------------------------------\r\n",
      " GroupAggregate  (cost=4727.61..4727.64 rows=1 width=17) (actual time=20.648..20.763 rows=134 loops=1)\r\n",
      "   Group Key: appearances.playerid\r\n",
      "   ->  Sort  (cost=4727.61..4727.62 rows=1 width=17) (actual time=20.637..20.651 rows=138 loops=1)\r\n",
      "         Sort Key: appearances.playerid\r\n",
      "         Sort Method: quicksort  Memory: 35kB\r\n",
      "         ->  Merge Join  (cost=1718.81..4727.60 rows=1 width=17) (actual time=5.304..20.427 rows=138 loops=1)\r\n",
      "               Merge Cond: ((salaries.yearid = appearances.yearid) AND ((salaries.teamid)::text = (appearances.teamid)::text) AND ((salaries.lgid)::text = (appearances.lgid)::text) AND ((salaries.playerid)::text = (appearances.playerid)::text))\r\n",
      "               ->  Index Scan using salaries_pkey on salaries  (cost=0.42..35255.03 rows=326428 width=27) (actual time=0.045..9.873 rows=26429 loops=1)\r\n",
      "               ->  Sort  (cost=1708.37..1711.74 rows=1348 width=20) (actual time=4.778..4.895 rows=1347 loops=1)\r\n",
      "                     Sort Key: appearances.yearid, appearances.teamid, appearances.lgid, appearances.playerid\r\n",
      "                     Sort Method: quicksort  Memory: 154kB\r\n",
      "                     ->  Bitmap Heap Scan on appearances  (cost=18.74..1638.30 rows=1348 width=20) (actual time=0.407..2.951 rows=1347 loops=1)\r\n",
      "                           Recheck Cond: (g_batting = 10)\r\n",
      "                           Heap Blocks: exact=899\r\n",
      "                           ->  Bitmap Index Scan on g_batting_idx  (cost=0.00..18.40 rows=1348 width=0) (actual time=0.254..0.255 rows=1347 loops=1)\r\n",
      "                                 Index Cond: (g_batting = 10)\r\n",
      " Planning Time: 1.985 ms\r\n",
      " Execution Time: 20.930 ms\r\n",
      "(18 rows)\r\n",
      "\r\n"
     ]
    }
   ],
   "source": [
    "!psql -h localhost -d baseball -c \"explain analyze $result_4a_query_str\""
   ]
  },
  {
   "cell_type": "code",
   "execution_count": 406,
   "metadata": {},
   "outputs": [],
   "source": [
    "result_4b_cost = 2379.37\n",
    "result_4b_timing =12.023 "
   ]
  },
  {
   "cell_type": "code",
   "execution_count": 407,
   "metadata": {
    "deletable": false,
    "editable": false
   },
   "outputs": [
    {
     "data": {
      "text/html": [
       "<p><strong><pre style='display: inline;'>q4b</pre></strong> passed!</p>"
      ],
      "text/plain": [
       "q4b results: All test cases passed!"
      ]
     },
     "execution_count": 407,
     "metadata": {},
     "output_type": "execute_result"
    }
   ],
   "source": [
    "grader.check(\"q4b\")"
   ]
  },
  {
   "cell_type": "markdown",
   "metadata": {},
   "source": [
    "In the following question, we will explore adding a different index and evaluating the query from `Question 4a`. To avoid any interference by the `g_batting_idx` index, **drop the index before moving onto the next question.**"
   ]
  },
  {
   "cell_type": "code",
   "execution_count": 408,
   "metadata": {},
   "outputs": [
    {
     "name": "stdout",
     "output_type": "stream",
     "text": [
      " * postgresql://jovyan@127.0.0.1:5432/baseball\n",
      "   postgresql://jovyan@127.0.0.1:5432/postgres\n",
      "Done.\n"
     ]
    },
    {
     "data": {
      "text/plain": [
       "[]"
      ]
     },
     "execution_count": 408,
     "metadata": {},
     "output_type": "execute_result"
    }
   ],
   "source": [
    "%%sql \n",
    "DROP INDEX IF EXISTS g_batting_idx"
   ]
  },
  {
   "cell_type": "markdown",
   "metadata": {},
   "source": [
    "### Question 4c:\n",
    "Write a query to add an index with name `salary_idx` on the `salary` column of the `salaries` table."
   ]
  },
  {
   "cell_type": "code",
   "execution_count": 409,
   "metadata": {},
   "outputs": [
    {
     "name": "stdout",
     "output_type": "stream",
     "text": [
      " * postgresql://jovyan@127.0.0.1:5432/baseball\n",
      "   postgresql://jovyan@127.0.0.1:5432/postgres\n",
      "(psycopg2.errors.DuplicateTable) relation \"salary_idx\" already exists\n",
      "\n",
      "[SQL: CREATE INDEX salary_idx\n",
      "ON salaries(salary)]\n",
      "(Background on this error at: https://sqlalche.me/e/14/f405)\n"
     ]
    }
   ],
   "source": [
    "%%sql result_4c <<\n",
    "CREATE INDEX salary_idx\n",
    "ON salaries(salary)"
   ]
  },
  {
   "cell_type": "markdown",
   "metadata": {},
   "source": [
    "Re-inspect the query plan of the query from the `Question 4a` and record its execution time and cost."
   ]
  },
  {
   "cell_type": "code",
   "execution_count": 410,
   "metadata": {},
   "outputs": [
    {
     "name": "stdout",
     "output_type": "stream",
     "text": [
      "                                                                                                                     QUERY PLAN                                                                                                                      \r\n",
      "-----------------------------------------------------------------------------------------------------------------------------------------------------------------------------------------------------------------------------------------------------\r\n",
      " GroupAggregate  (cost=4727.61..4727.64 rows=1 width=17) (actual time=12.760..12.832 rows=134 loops=1)\r\n",
      "   Group Key: appearances.playerid\r\n",
      "   ->  Sort  (cost=4727.61..4727.62 rows=1 width=17) (actual time=12.752..12.760 rows=138 loops=1)\r\n",
      "         Sort Key: appearances.playerid\r\n",
      "         Sort Method: quicksort  Memory: 35kB\r\n",
      "         ->  Merge Join  (cost=1718.81..4727.60 rows=1 width=17) (actual time=3.915..12.630 rows=138 loops=1)\r\n",
      "               Merge Cond: ((salaries.yearid = appearances.yearid) AND ((salaries.teamid)::text = (appearances.teamid)::text) AND ((salaries.lgid)::text = (appearances.lgid)::text) AND ((salaries.playerid)::text = (appearances.playerid)::text))\r\n",
      "               ->  Index Scan using salaries_pkey on salaries  (cost=0.42..35255.03 rows=326428 width=27) (actual time=0.040..5.785 rows=26429 loops=1)\r\n",
      "               ->  Sort  (cost=1708.37..1711.74 rows=1348 width=20) (actual time=3.543..3.614 rows=1347 loops=1)\r\n",
      "                     Sort Key: appearances.yearid, appearances.teamid, appearances.lgid, appearances.playerid\r\n",
      "                     Sort Method: quicksort  Memory: 154kB\r\n",
      "                     ->  Bitmap Heap Scan on appearances  (cost=18.74..1638.30 rows=1348 width=20) (actual time=0.289..2.462 rows=1347 loops=1)\r\n",
      "                           Recheck Cond: (g_batting = 10)\r\n",
      "                           Heap Blocks: exact=899\r\n",
      "                           ->  Bitmap Index Scan on g_batting_g_all_idx  (cost=0.00..18.40 rows=1348 width=0) (actual time=0.169..0.170 rows=1347 loops=1)\r\n",
      "                                 Index Cond: (g_batting = 10)\r\n",
      " Planning Time: 1.475 ms\r\n",
      " Execution Time: 12.953 ms\r\n",
      "(18 rows)\r\n",
      "\r\n"
     ]
    }
   ],
   "source": [
    "!psql -h localhost -d baseball -c \"explain analyze $result_4a_query_str\""
   ]
  },
  {
   "cell_type": "code",
   "execution_count": 411,
   "metadata": {},
   "outputs": [],
   "source": [
    "result_4c_cost = 3636.97\n",
    "result_4c_timing = 22.284"
   ]
  },
  {
   "cell_type": "code",
   "execution_count": 412,
   "metadata": {
    "deletable": false,
    "editable": false
   },
   "outputs": [
    {
     "data": {
      "text/html": [
       "<p><strong><pre style='display: inline;'>q4c</pre></strong> passed!</p>"
      ],
      "text/plain": [
       "q4c results: All test cases passed!"
      ]
     },
     "execution_count": 412,
     "metadata": {},
     "output_type": "execute_result"
    }
   ],
   "source": [
    "grader.check(\"q4c\")"
   ]
  },
  {
   "cell_type": "markdown",
   "metadata": {
    "deletable": false,
    "editable": false
   },
   "source": [
    "### Question 4d:\n",
    "#### Question 4di:\n",
    "Given your findings from inspecting the query plans with no indexes, an index on `g_batting`, and an index on `salary`, answer the following question. Assign the variable `q4d_part1` to a list of all options which are true for the proposed statement.\n",
    "\n",
    "1. Consider the following statements:\n",
    "    1. Adding the `g_batting` index did not have a significant impact on the query execution time and cost.\n",
    "    1. Adding the `g_batting` index did have a significant impact on the query execution time, but not the cost.\n",
    "    1. Adding the `g_batting` index did have a significant impact on the query cost, but not the execution time.\n",
    "    1. Adding the `g_batting` index did have a significant impact on the query cost and execution time.\n",
    "    1. Adding the `salary` index did not have a significant impact on the query execution time and cost.\n",
    "    1. Adding the `salary` index did have a significant impact on the query execution time, but not the cost.\n",
    "    1. Adding the `salary` index did have a significant impact on the query cost, but not the execution time.\n",
    "    1. Adding the `salary` index did have a significant impact on the query cost and execution time.\n",
    "\n",
    "**Note:** Your answer should be formatted as follows: `q4d_part1 = ['A', 'B']`\n",
    "\n",
    "<!--\n",
    "BEGIN QUESTION\n",
    "name: q4di\n",
    "points: 2\n",
    "-->"
   ]
  },
  {
   "cell_type": "code",
   "execution_count": 413,
   "metadata": {},
   "outputs": [],
   "source": [
    "q4d_part1 = ['D','E ']"
   ]
  },
  {
   "cell_type": "code",
   "execution_count": 414,
   "metadata": {
    "deletable": false,
    "editable": false
   },
   "outputs": [
    {
     "data": {
      "text/html": [
       "<p><strong><pre style='display: inline;'>q4di</pre></strong> passed!</p>"
      ],
      "text/plain": [
       "q4di results: All test cases passed!"
      ]
     },
     "execution_count": 414,
     "metadata": {},
     "output_type": "execute_result"
    }
   ],
   "source": [
    "grader.check(\"q4di\")"
   ]
  },
  {
   "cell_type": "markdown",
   "metadata": {
    "deletable": false,
    "editable": false
   },
   "source": [
    "<!-- BEGIN QUESTION -->\n",
    "\n",
    "#### Question 4dii:\n",
    "\n",
    "Explain your answer based on your knowledge from lectures, and details from inspecting the query plans (your explanation should include why you didn't choose certain options).\n",
    "\n",
    "<!--\n",
    "BEGIN QUESTION\n",
    "name: q4dii\n",
    "manual: true\n",
    "points: 2\n",
    "-->"
   ]
  },
  {
   "cell_type": "markdown",
   "metadata": {},
   "source": [
    "I chose D, because adding the g_batting index improves the performance of the query in finding specific row quickly since the query asks to find WHERE g_batting = 10. This can be found quickly because g_batting index sorts g_batting in ascending order so it would decrease the amount of rows to scan compared to not having an index on g_batting. I also chose E, becuase adding the salary index is not beneficial when the query uses g_batting and playerid to do searching. Therefore, it does not improve the cost nor time."
   ]
  },
  {
   "cell_type": "markdown",
   "metadata": {},
   "source": [
    "<!-- END QUESTION -->\n",
    "\n",
    "\n",
    "\n",
    "In the following question, we will further explore the impact of indexes on query performance. To avoid any interference by the `salary_idx` index, please drop the index before moving onto the next question."
   ]
  },
  {
   "cell_type": "code",
   "execution_count": 415,
   "metadata": {},
   "outputs": [
    {
     "name": "stdout",
     "output_type": "stream",
     "text": [
      " * postgresql://jovyan@127.0.0.1:5432/baseball\n",
      "   postgresql://jovyan@127.0.0.1:5432/postgres\n",
      "Done.\n"
     ]
    },
    {
     "data": {
      "text/plain": [
       "[]"
      ]
     },
     "execution_count": 415,
     "metadata": {},
     "output_type": "execute_result"
    }
   ],
   "source": [
    "%%sql \n",
    "DROP INDEX IF EXISTS salary_idx;"
   ]
  },
  {
   "cell_type": "markdown",
   "metadata": {},
   "source": [
    "### Question 4e:\n",
    "#### Question 4ei:\n",
    "Write a query that finds the `playerid`, `yearid`, and `salary` for each player that had played 10 games and batted in 10 games (the number of games in which a player played can be found in the `g_all` column of the `appearances` table). Your query should join the `salaries` and `appearances` table on all the common columns `yearid`, `teamid`, and `playerid`, so feel free to use a natural join."
   ]
  },
  {
   "cell_type": "code",
   "execution_count": 416,
   "metadata": {},
   "outputs": [
    {
     "name": "stdout",
     "output_type": "stream",
     "text": [
      " * postgresql://jovyan@127.0.0.1:5432/baseball\n",
      "   postgresql://jovyan@127.0.0.1:5432/postgres\n",
      "120 rows affected.\n",
      "Returning data to local variable result_4ei\n"
     ]
    }
   ],
   "source": [
    "%%sql result_4ei <<\n",
    "SELECT playerid,yearid,salary\n",
    "FROM appearances NATURAL JOIN salaries\n",
    "WHERE g_batting = 10 AND g_all = 10"
   ]
  },
  {
   "cell_type": "code",
   "execution_count": 417,
   "metadata": {},
   "outputs": [],
   "source": [
    "# Do not delete/edit this cell\n",
    "result_4ei.DataFrame().sort_values(['playerid', 'yearid']).to_csv('results/result_4ei.csv', index=False)"
   ]
  },
  {
   "cell_type": "code",
   "execution_count": 418,
   "metadata": {
    "deletable": false,
    "editable": false
   },
   "outputs": [
    {
     "data": {
      "text/html": [
       "<p><strong><pre style='display: inline;'>q4ei_part1</pre></strong> passed!</p>"
      ],
      "text/plain": [
       "q4ei_part1 results: All test cases passed!"
      ]
     },
     "execution_count": 418,
     "metadata": {},
     "output_type": "execute_result"
    }
   ],
   "source": [
    "grader.check(\"q4ei_part1\")"
   ]
  },
  {
   "cell_type": "markdown",
   "metadata": {},
   "source": [
    "Inspect the query plan and record the execution time and cost."
   ]
  },
  {
   "cell_type": "code",
   "execution_count": 419,
   "metadata": {},
   "outputs": [
    {
     "name": "stdout",
     "output_type": "stream",
     "text": [
      "                                                                                                QUERY PLAN                                                                                                 \r\n",
      "-----------------------------------------------------------------------------------------------------------------------------------------------------------------------------------------------------------\r\n",
      " Nested Loop  (cost=4.93..259.00 rows=1 width=21) (actual time=4.701..8.592 rows=120 loops=1)\r\n",
      "   ->  Bitmap Heap Scan on appearances  (cost=4.51..81.60 rows=21 width=20) (actual time=0.392..2.933 rows=1289 loops=1)\r\n",
      "         Recheck Cond: ((g_batting = 10) AND (g_all = 10))\r\n",
      "         Heap Blocks: exact=869\r\n",
      "         ->  Bitmap Index Scan on g_batting_g_all_idx  (cost=0.00..4.50 rows=21 width=0) (actual time=0.226..0.226 rows=1289 loops=1)\r\n",
      "               Index Cond: ((g_batting = 10) AND (g_all = 10))\r\n",
      "   ->  Index Scan using salaries_pkey on salaries  (cost=0.42..8.45 rows=1 width=27) (actual time=0.004..0.004 rows=0 loops=1289)\r\n",
      "         Index Cond: ((yearid = appearances.yearid) AND ((teamid)::text = (appearances.teamid)::text) AND ((lgid)::text = (appearances.lgid)::text) AND ((playerid)::text = (appearances.playerid)::text))\r\n",
      " Planning Time: 1.869 ms\r\n",
      " Execution Time: 8.708 ms\r\n",
      "(10 rows)\r\n",
      "\r\n"
     ]
    }
   ],
   "source": [
    "result_4ei_query_str = \"SELECT playerid,yearid,salary FROM appearances NATURAL JOIN salaries WHERE g_batting = 10 AND g_all = 10\"\n",
    "!psql -h localhost -d baseball -c \"explain analyze $result_4ei_query_str\""
   ]
  },
  {
   "cell_type": "code",
   "execution_count": 420,
   "metadata": {},
   "outputs": [],
   "source": [
    "result_4ei_cost =240.34\n",
    "result_4ei_timing = 12.810"
   ]
  },
  {
   "cell_type": "code",
   "execution_count": 421,
   "metadata": {
    "deletable": false,
    "editable": false
   },
   "outputs": [
    {
     "data": {
      "text/html": [
       "<p><strong><pre style='display: inline;'>q4ei_part2</pre></strong> passed!</p>"
      ],
      "text/plain": [
       "q4ei_part2 results: All test cases passed!"
      ]
     },
     "execution_count": 421,
     "metadata": {},
     "output_type": "execute_result"
    }
   ],
   "source": [
    "grader.check(\"q4ei_part2\")"
   ]
  },
  {
   "cell_type": "markdown",
   "metadata": {},
   "source": [
    "#### Question 4eii:\n",
    "Now, let's see the impact of adding an index on the `g_batting` column. Create an index on the `g_batting` column. Re-inspect the query from `Question 4ei` and record the execution time and cost."
   ]
  },
  {
   "cell_type": "code",
   "execution_count": 422,
   "metadata": {
    "scrolled": true
   },
   "outputs": [
    {
     "name": "stdout",
     "output_type": "stream",
     "text": [
      " * postgresql://jovyan@127.0.0.1:5432/baseball\n",
      "   postgresql://jovyan@127.0.0.1:5432/postgres\n",
      "Done.\n",
      "Returning data to local variable result_4eii\n"
     ]
    }
   ],
   "source": [
    "%%sql result_4eii << \n",
    "CREATE INDEX g_batting_idx\n",
    "ON appearances(g_batting)"
   ]
  },
  {
   "cell_type": "code",
   "execution_count": 423,
   "metadata": {
    "scrolled": true
   },
   "outputs": [
    {
     "name": "stdout",
     "output_type": "stream",
     "text": [
      "                                                                                                QUERY PLAN                                                                                                 \r\n",
      "-----------------------------------------------------------------------------------------------------------------------------------------------------------------------------------------------------------\r\n",
      " Nested Loop  (cost=4.93..259.00 rows=1 width=21) (actual time=4.627..8.379 rows=120 loops=1)\r\n",
      "   ->  Bitmap Heap Scan on appearances  (cost=4.51..81.60 rows=21 width=20) (actual time=0.383..2.763 rows=1289 loops=1)\r\n",
      "         Recheck Cond: ((g_batting = 10) AND (g_all = 10))\r\n",
      "         Heap Blocks: exact=869\r\n",
      "         ->  Bitmap Index Scan on g_batting_g_all_idx  (cost=0.00..4.50 rows=21 width=0) (actual time=0.216..0.217 rows=1289 loops=1)\r\n",
      "               Index Cond: ((g_batting = 10) AND (g_all = 10))\r\n",
      "   ->  Index Scan using salaries_pkey on salaries  (cost=0.42..8.45 rows=1 width=27) (actual time=0.004..0.004 rows=0 loops=1289)\r\n",
      "         Index Cond: ((yearid = appearances.yearid) AND ((teamid)::text = (appearances.teamid)::text) AND ((lgid)::text = (appearances.lgid)::text) AND ((playerid)::text = (appearances.playerid)::text))\r\n",
      " Planning Time: 1.932 ms\r\n",
      " Execution Time: 8.487 ms\r\n",
      "(10 rows)\r\n",
      "\r\n"
     ]
    }
   ],
   "source": [
    "!psql -h localhost -d baseball -c \"explain analyze $result_4ei_query_str\""
   ]
  },
  {
   "cell_type": "code",
   "execution_count": 424,
   "metadata": {},
   "outputs": [],
   "source": [
    "result_4eii_with_index_cost = 240.34\n",
    "result_4eii_with_index_timing = 6.782"
   ]
  },
  {
   "cell_type": "code",
   "execution_count": 425,
   "metadata": {
    "deletable": false,
    "editable": false
   },
   "outputs": [
    {
     "data": {
      "text/html": [
       "<p><strong><pre style='display: inline;'>q4eii</pre></strong> passed!</p>"
      ],
      "text/plain": [
       "q4eii results: All test cases passed!"
      ]
     },
     "execution_count": 425,
     "metadata": {},
     "output_type": "execute_result"
    }
   ],
   "source": [
    "grader.check(\"q4eii\")"
   ]
  },
  {
   "cell_type": "markdown",
   "metadata": {},
   "source": [
    "In the following question, we will further explore the impact of indexes on query performance. To avoid any interference from the index on the `g_batting` column, drop the index before moving onto the next question."
   ]
  },
  {
   "cell_type": "code",
   "execution_count": 426,
   "metadata": {},
   "outputs": [
    {
     "name": "stdout",
     "output_type": "stream",
     "text": [
      " * postgresql://jovyan@127.0.0.1:5432/baseball\n",
      "   postgresql://jovyan@127.0.0.1:5432/postgres\n",
      "Done.\n"
     ]
    },
    {
     "data": {
      "text/plain": [
       "[]"
      ]
     },
     "execution_count": 426,
     "metadata": {},
     "output_type": "execute_result"
    }
   ],
   "source": [
    "%%sql \n",
    "DROP INDEX IF EXISTS g_batting_idx;"
   ]
  },
  {
   "cell_type": "markdown",
   "metadata": {},
   "source": [
    "#### Question 4eiii:\n",
    "Write a query that finds the `playerid`, `yearid`, and `salary` for each player that had played 10 games __or__ batted in 10 games. Your query should join the `salaries` and `appearances` table on all the common columns `yearid`, `teamid`, and `playerid`, so feel free to use a natural join."
   ]
  },
  {
   "cell_type": "code",
   "execution_count": 427,
   "metadata": {},
   "outputs": [
    {
     "name": "stdout",
     "output_type": "stream",
     "text": [
      " * postgresql://jovyan@127.0.0.1:5432/baseball\n",
      "   postgresql://jovyan@127.0.0.1:5432/postgres\n",
      "216 rows affected.\n",
      "Returning data to local variable result_4eiii\n"
     ]
    }
   ],
   "source": [
    "%%sql result_4eiii <<\n",
    "SELECT playerid,yearid,salary\n",
    "FROM appearances NATURAL JOIN salaries\n",
    "WHERE g_batting = 10 OR g_all = 10"
   ]
  },
  {
   "cell_type": "code",
   "execution_count": 428,
   "metadata": {},
   "outputs": [],
   "source": [
    "# Do not delete/edit this cell\n",
    "result_4eiii.DataFrame().sort_values(['playerid', 'yearid']).to_csv('results/result_4eiii.csv', index=False)"
   ]
  },
  {
   "cell_type": "code",
   "execution_count": 429,
   "metadata": {
    "deletable": false,
    "editable": false
   },
   "outputs": [
    {
     "data": {
      "text/html": [
       "<p><strong><pre style='display: inline;'>q4eiii_part1</pre></strong> passed!</p>"
      ],
      "text/plain": [
       "q4eiii_part1 results: All test cases passed!"
      ]
     },
     "execution_count": 429,
     "metadata": {},
     "output_type": "execute_result"
    }
   ],
   "source": [
    "grader.check(\"q4eiii_part1\")"
   ]
  },
  {
   "cell_type": "code",
   "execution_count": 430,
   "metadata": {},
   "outputs": [
    {
     "name": "stdout",
     "output_type": "stream",
     "text": [
      "                                                                                                               QUERY PLAN                                                                                                                \r\n",
      "-----------------------------------------------------------------------------------------------------------------------------------------------------------------------------------------------------------------------------------------\r\n",
      " Merge Join  (cost=3044.99..6061.87 rows=1 width=21) (actual time=7.608..23.616 rows=216 loops=1)\r\n",
      "   Merge Cond: ((salaries.yearid = appearances.yearid) AND ((salaries.teamid)::text = (appearances.teamid)::text) AND ((salaries.lgid)::text = (appearances.lgid)::text) AND ((salaries.playerid)::text = (appearances.playerid)::text))\r\n",
      "   ->  Index Scan using salaries_pkey on salaries  (cost=0.42..35255.03 rows=326428 width=27) (actual time=0.048..10.045 rows=26429 loops=1)\r\n",
      "   ->  Sort  (cost=3022.73..3030.08 rows=2940 width=20) (actual time=7.006..7.158 rows=1655 loops=1)\r\n",
      "         Sort Key: appearances.yearid, appearances.teamid, appearances.lgid, appearances.playerid\r\n",
      "         Sort Method: quicksort  Memory: 178kB\r\n",
      "         ->  Bitmap Heap Scan on appearances  (cost=1182.09..2853.37 rows=2940 width=20) (actual time=1.111..4.511 rows=1655 loops=1)\r\n",
      "               Recheck Cond: ((g_batting = 10) OR (g_all = 10))\r\n",
      "               Heap Blocks: exact=1027\r\n",
      "               ->  BitmapOr  (cost=1182.09..1182.09 rows=2961 width=0) (actual time=0.925..0.927 rows=0 loops=1)\r\n",
      "                     ->  Bitmap Index Scan on g_batting_g_all_idx  (cost=0.00..18.40 rows=1348 width=0) (actual time=0.196..0.196 rows=1347 loops=1)\r\n",
      "                           Index Cond: (g_batting = 10)\r\n",
      "                     ->  Bitmap Index Scan on g_batting_g_all_idx  (cost=0.00..1162.21 rows=1612 width=0) (actual time=0.728..0.728 rows=1597 loops=1)\r\n",
      "                           Index Cond: (g_all = 10)\r\n",
      " Planning Time: 1.801 ms\r\n",
      " Execution Time: 23.835 ms\r\n",
      "(16 rows)\r\n",
      "\r\n"
     ]
    }
   ],
   "source": [
    "result_4eiii_query_str = \"SELECT playerid,yearid,salary FROM appearances NATURAL JOIN salaries WHERE g_batting = 10 OR g_all = 10\"\n",
    "!psql -h localhost -d baseball -c \"explain analyze $result_4eiii_query_str\""
   ]
  },
  {
   "cell_type": "code",
   "execution_count": 431,
   "metadata": {},
   "outputs": [],
   "source": [
    "result_4eiii_cost = 3667.81\n",
    "result_4eiii_timing = 14.429"
   ]
  },
  {
   "cell_type": "code",
   "execution_count": 432,
   "metadata": {
    "deletable": false,
    "editable": false
   },
   "outputs": [
    {
     "data": {
      "text/html": [
       "<p><strong><pre style='display: inline;'>q4eiii_part2</pre></strong> passed!</p>"
      ],
      "text/plain": [
       "q4eiii_part2 results: All test cases passed!"
      ]
     },
     "execution_count": 432,
     "metadata": {},
     "output_type": "execute_result"
    }
   ],
   "source": [
    "grader.check(\"q4eiii_part2\")"
   ]
  },
  {
   "cell_type": "markdown",
   "metadata": {},
   "source": [
    "#### Question 4eiv\n",
    "Now, let's see the impact of adding an index on `g_batting` column will have on the query. Re-create the index and re-inspect the query from `Question 4eiii` and record the execution time and cost."
   ]
  },
  {
   "cell_type": "code",
   "execution_count": 433,
   "metadata": {
    "scrolled": true
   },
   "outputs": [
    {
     "name": "stdout",
     "output_type": "stream",
     "text": [
      " * postgresql://jovyan@127.0.0.1:5432/baseball\n",
      "   postgresql://jovyan@127.0.0.1:5432/postgres\n",
      "Done.\n",
      "Returning data to local variable result_4eiv\n"
     ]
    }
   ],
   "source": [
    "%%sql result_4eiv << \n",
    "CREATE INDEX g_batting_idx \n",
    "ON appearances(g_batting)"
   ]
  },
  {
   "cell_type": "code",
   "execution_count": 434,
   "metadata": {},
   "outputs": [
    {
     "name": "stdout",
     "output_type": "stream",
     "text": [
      "                                                                                                               QUERY PLAN                                                                                                                \r\n",
      "-----------------------------------------------------------------------------------------------------------------------------------------------------------------------------------------------------------------------------------------\r\n",
      " Merge Join  (cost=3044.99..6061.87 rows=1 width=21) (actual time=5.485..15.685 rows=216 loops=1)\r\n",
      "   Merge Cond: ((salaries.yearid = appearances.yearid) AND ((salaries.teamid)::text = (appearances.teamid)::text) AND ((salaries.lgid)::text = (appearances.lgid)::text) AND ((salaries.playerid)::text = (appearances.playerid)::text))\r\n",
      "   ->  Index Scan using salaries_pkey on salaries  (cost=0.42..35255.03 rows=326428 width=27) (actual time=0.048..6.586 rows=26429 loops=1)\r\n",
      "   ->  Sort  (cost=3022.73..3030.08 rows=2940 width=20) (actual time=4.997..5.111 rows=1655 loops=1)\r\n",
      "         Sort Key: appearances.yearid, appearances.teamid, appearances.lgid, appearances.playerid\r\n",
      "         Sort Method: quicksort  Memory: 178kB\r\n",
      "         ->  Bitmap Heap Scan on appearances  (cost=1182.09..2853.37 rows=2940 width=20) (actual time=1.002..3.578 rows=1655 loops=1)\r\n",
      "               Recheck Cond: ((g_batting = 10) OR (g_all = 10))\r\n",
      "               Heap Blocks: exact=1027\r\n",
      "               ->  BitmapOr  (cost=1182.09..1182.09 rows=2961 width=0) (actual time=0.863..0.864 rows=0 loops=1)\r\n",
      "                     ->  Bitmap Index Scan on g_batting_idx  (cost=0.00..18.40 rows=1348 width=0) (actual time=0.208..0.208 rows=1347 loops=1)\r\n",
      "                           Index Cond: (g_batting = 10)\r\n",
      "                     ->  Bitmap Index Scan on g_batting_g_all_idx  (cost=0.00..1162.21 rows=1612 width=0) (actual time=0.654..0.654 rows=1597 loops=1)\r\n",
      "                           Index Cond: (g_all = 10)\r\n",
      " Planning Time: 1.406 ms\r\n",
      " Execution Time: 15.861 ms\r\n",
      "(16 rows)\r\n",
      "\r\n"
     ]
    }
   ],
   "source": [
    "!psql -h localhost -d baseball -c \"explain analyze $result_4eiii_query_str\""
   ]
  },
  {
   "cell_type": "code",
   "execution_count": 435,
   "metadata": {},
   "outputs": [],
   "source": [
    "result_4eiv_with_index_cost = 3667.81\n",
    "result_4eiv_with_index_timing = 13.631"
   ]
  },
  {
   "cell_type": "code",
   "execution_count": 436,
   "metadata": {
    "deletable": false,
    "editable": false
   },
   "outputs": [
    {
     "data": {
      "text/html": [
       "<p><strong><pre style='display: inline;'>q4eiv</pre></strong> passed!</p>"
      ],
      "text/plain": [
       "q4eiv results: All test cases passed!"
      ]
     },
     "execution_count": 436,
     "metadata": {},
     "output_type": "execute_result"
    }
   ],
   "source": [
    "grader.check(\"q4eiv\")"
   ]
  },
  {
   "cell_type": "markdown",
   "metadata": {},
   "source": [
    "In the following question, we will further explore the impact of indexes on query performance. To avoid any interference from the index on the `g_batting` column, drop the index before moving onto the next question."
   ]
  },
  {
   "cell_type": "code",
   "execution_count": 437,
   "metadata": {},
   "outputs": [
    {
     "name": "stdout",
     "output_type": "stream",
     "text": [
      " * postgresql://jovyan@127.0.0.1:5432/baseball\n",
      "   postgresql://jovyan@127.0.0.1:5432/postgres\n",
      "Done.\n"
     ]
    },
    {
     "data": {
      "text/plain": [
       "[]"
      ]
     },
     "execution_count": 437,
     "metadata": {},
     "output_type": "execute_result"
    }
   ],
   "source": [
    "%%sql \n",
    "DROP INDEX IF EXISTS g_batting_idx;"
   ]
  },
  {
   "cell_type": "markdown",
   "metadata": {},
   "source": [
    "#### Question 4ev:\n",
    "Now, create a multiple column index on `g_batting` and `g_all` called `g_batting_g_all_idx` and record the query execution time and cost."
   ]
  },
  {
   "cell_type": "code",
   "execution_count": 438,
   "metadata": {},
   "outputs": [
    {
     "name": "stdout",
     "output_type": "stream",
     "text": [
      " * postgresql://jovyan@127.0.0.1:5432/baseball\n",
      "   postgresql://jovyan@127.0.0.1:5432/postgres\n",
      "(psycopg2.errors.DuplicateTable) relation \"g_batting_g_all_idx\" already exists\n",
      "\n",
      "[SQL: CREATE INDEX g_batting_g_all_idx\n",
      "ON appearances(g_batting, g_all)]\n",
      "(Background on this error at: https://sqlalche.me/e/14/f405)\n"
     ]
    }
   ],
   "source": [
    "%%sql result_4v <<\n",
    "CREATE INDEX g_batting_g_all_idx\n",
    "ON appearances(g_batting, g_all)"
   ]
  },
  {
   "cell_type": "code",
   "execution_count": 439,
   "metadata": {},
   "outputs": [
    {
     "name": "stdout",
     "output_type": "stream",
     "text": [
      "                                                                                                               QUERY PLAN                                                                                                                \r\n",
      "-----------------------------------------------------------------------------------------------------------------------------------------------------------------------------------------------------------------------------------------\r\n",
      " Merge Join  (cost=3044.99..6061.87 rows=1 width=21) (actual time=8.216..24.502 rows=216 loops=1)\r\n",
      "   Merge Cond: ((salaries.yearid = appearances.yearid) AND ((salaries.teamid)::text = (appearances.teamid)::text) AND ((salaries.lgid)::text = (appearances.lgid)::text) AND ((salaries.playerid)::text = (appearances.playerid)::text))\r\n",
      "   ->  Index Scan using salaries_pkey on salaries  (cost=0.42..35255.03 rows=326428 width=27) (actual time=0.071..10.395 rows=26429 loops=1)\r\n",
      "   ->  Sort  (cost=3022.73..3030.08 rows=2940 width=20) (actual time=7.570..7.746 rows=1655 loops=1)\r\n",
      "         Sort Key: appearances.yearid, appearances.teamid, appearances.lgid, appearances.playerid\r\n",
      "         Sort Method: quicksort  Memory: 178kB\r\n",
      "         ->  Bitmap Heap Scan on appearances  (cost=1182.09..2853.37 rows=2940 width=20) (actual time=1.228..5.114 rows=1655 loops=1)\r\n",
      "               Recheck Cond: ((g_batting = 10) OR (g_all = 10))\r\n",
      "               Heap Blocks: exact=1027\r\n",
      "               ->  BitmapOr  (cost=1182.09..1182.09 rows=2961 width=0) (actual time=0.984..0.985 rows=0 loops=1)\r\n",
      "                     ->  Bitmap Index Scan on g_batting_g_all_idx  (cost=0.00..18.40 rows=1348 width=0) (actual time=0.222..0.222 rows=1347 loops=1)\r\n",
      "                           Index Cond: (g_batting = 10)\r\n",
      "                     ->  Bitmap Index Scan on g_batting_g_all_idx  (cost=0.00..1162.21 rows=1612 width=0) (actual time=0.761..0.761 rows=1597 loops=1)\r\n",
      "                           Index Cond: (g_all = 10)\r\n",
      " Planning Time: 2.276 ms\r\n",
      " Execution Time: 24.749 ms\r\n",
      "(16 rows)\r\n",
      "\r\n"
     ]
    }
   ],
   "source": [
    "!psql -h localhost -d baseball -c \"explain analyze $result_4eiii_query_str\""
   ]
  },
  {
   "cell_type": "code",
   "execution_count": 440,
   "metadata": {},
   "outputs": [],
   "source": [
    "result_4ev_multiple_col_index_cost = 3667.81\n",
    "result_4ev_multiple_col_index_timing = 13.666"
   ]
  },
  {
   "cell_type": "code",
   "execution_count": 441,
   "metadata": {
    "deletable": false,
    "editable": false
   },
   "outputs": [
    {
     "data": {
      "text/html": [
       "<p><strong><pre style='display: inline;'>q4ev</pre></strong> passed!</p>"
      ],
      "text/plain": [
       "q4ev results: All test cases passed!"
      ]
     },
     "execution_count": 441,
     "metadata": {},
     "output_type": "execute_result"
    }
   ],
   "source": [
    "grader.check(\"q4ev\")"
   ]
  },
  {
   "cell_type": "markdown",
   "metadata": {
    "deletable": false,
    "editable": false
   },
   "source": [
    "#### Question 4evi:\n",
    "Given your findings from inspecting the query plans from `Question 4e`, answer the following question. Assign the variable `q4e_part6` to a list of all statements that are true.\n",
    "\n",
    "1. Consider the following statements:\n",
    "    1. Adding an index on a column used in an AND predicate will reduce the query time, but not the execution cost.\n",
    "    1. Adding an index on a column used in an AND predicate will reduce the query cost, but not the execution time.\n",
    "    1. Adding an index on a column used in an AND predicate will reduce the query cost and the execution time.\n",
    "    1. Adding an index on a column used in an OR predicate will reduce the query time, but not the execution cost.\n",
    "    1. Adding an index on a column used in an OR predicate will reduce the query cost, but not the execution time.\n",
    "    1. Adding an index on a column used in an OR predicate will reduce the query cost and the execution time.\n",
    "    1. Adding a mutlicolumn index on columns in an OR predicate will reduce the query time, but not the execution cost.\n",
    "    1. Adding a mutlicolumn index on columns in an OR predicate will reduce the query cost, but not the execution time.\n",
    "    1. Adding a mutlicolumn index on columns in an OR predicate will reduce the query cost and the execution time.\n",
    "\n",
    "**Note:** Your answer should be formatted as follows: `q4e_part6 = ['A', 'B']`\n",
    "\n",
    "<!--\n",
    "BEGIN QUESTION\n",
    "name: q4evi\n",
    "points: 2\n",
    "-->"
   ]
  },
  {
   "cell_type": "code",
   "execution_count": 442,
   "metadata": {},
   "outputs": [],
   "source": [
    "q4e_part6 = ['C','I']"
   ]
  },
  {
   "cell_type": "code",
   "execution_count": 443,
   "metadata": {
    "deletable": false,
    "editable": false
   },
   "outputs": [
    {
     "data": {
      "text/html": [
       "<p><strong><pre style='display: inline;'>q4evi</pre></strong> passed!</p>"
      ],
      "text/plain": [
       "q4evi results: All test cases passed!"
      ]
     },
     "execution_count": 443,
     "metadata": {},
     "output_type": "execute_result"
    }
   ],
   "source": [
    "grader.check(\"q4evi\")"
   ]
  },
  {
   "cell_type": "markdown",
   "metadata": {
    "deletable": false,
    "editable": false
   },
   "source": [
    "<!-- BEGIN QUESTION -->\n",
    "\n",
    "#### Question 4evii\n",
    "\n",
    "Explain your answer to the previous part based on your knowledge from lectures, and details of the query plans (your explanation should include why you didn't choose certain options).\n",
    "\n",
    "<!--\n",
    "BEGIN QUESTION\n",
    "name: q4evii\n",
    "manual: true\n",
    "points: 2\n",
    "-->"
   ]
  },
  {
   "cell_type": "markdown",
   "metadata": {},
   "source": [
    "I chose the answer C, because adding an index on a column used in an AND predicate reduced the query cost (3928.31 to 3296.09) and the execution time (24.273 to 18.581). This is reasonable because there will be less rows to be added on the database compared to OR. Also, I chose 'I' as the answer becuase the execution time and cost was lower than compared to 4eiv. This is reasonable because Multicolumn indexes can store additional sorted pointers to other columns and can retrieve data faster from the table."
   ]
  },
  {
   "cell_type": "markdown",
   "metadata": {},
   "source": [
    "<!-- END QUESTION -->\n",
    "\n",
    "\n",
    "\n",
    "## Question 5: More Indexes\n",
    "### Question 5a:\n",
    "Write 2 queries: one that finds the minimum salary from the salary table and one that finds the average. Inspect the queries' query plans and record their execution times and costs."
   ]
  },
  {
   "cell_type": "code",
   "execution_count": 444,
   "metadata": {},
   "outputs": [
    {
     "name": "stdout",
     "output_type": "stream",
     "text": [
      " * postgresql://jovyan@127.0.0.1:5432/baseball\n",
      "   postgresql://jovyan@127.0.0.1:5432/postgres\n",
      "1 rows affected.\n",
      "Returning data to local variable result_5a_min\n"
     ]
    }
   ],
   "source": [
    "%%sql result_5a_min << \n",
    "SELECT min(salary)\n",
    "FROM salaries;"
   ]
  },
  {
   "cell_type": "code",
   "execution_count": 445,
   "metadata": {},
   "outputs": [
    {
     "name": "stdout",
     "output_type": "stream",
     "text": [
      "                                                                QUERY PLAN                                                                 \r\n",
      "-------------------------------------------------------------------------------------------------------------------------------------------\r\n",
      " Finalize Aggregate  (cost=10420.36..10420.37 rows=1 width=8) (actual time=47.397..113.609 rows=1 loops=1)\r\n",
      "   ->  Gather  (cost=10420.15..10420.36 rows=2 width=8) (actual time=47.238..113.599 rows=3 loops=1)\r\n",
      "         Workers Planned: 2\r\n",
      "         Workers Launched: 2\r\n",
      "         ->  Partial Aggregate  (cost=9420.15..9420.16 rows=1 width=8) (actual time=43.022..43.024 rows=1 loops=3)\r\n",
      "               ->  Parallel Seq Scan on salaries  (cost=0.00..9080.12 rows=136012 width=8) (actual time=1.493..34.097 rows=108809 loops=3)\r\n",
      " Planning Time: 0.463 ms\r\n",
      " Execution Time: 113.686 ms\r\n",
      "(8 rows)\r\n",
      "\r\n"
     ]
    }
   ],
   "source": [
    "result_5a_min_query_str = \"SELECT min(salary) FROM salaries;\"\n",
    "!psql -h localhost -d baseball -c \"explain analyze $result_5a_min_query_str\""
   ]
  },
  {
   "cell_type": "code",
   "execution_count": 446,
   "metadata": {},
   "outputs": [],
   "source": [
    "result_5a_min_query_cost = 525.36\n",
    "result_5a_min_query_timing = 4.493"
   ]
  },
  {
   "cell_type": "code",
   "execution_count": 447,
   "metadata": {
    "deletable": false,
    "editable": false
   },
   "outputs": [
    {
     "data": {
      "text/html": [
       "<p><strong><pre style='display: inline;'>q5ai</pre></strong> passed!</p>"
      ],
      "text/plain": [
       "q5ai results: All test cases passed!"
      ]
     },
     "execution_count": 447,
     "metadata": {},
     "output_type": "execute_result"
    }
   ],
   "source": [
    "grader.check(\"q5ai\")"
   ]
  },
  {
   "cell_type": "code",
   "execution_count": 448,
   "metadata": {},
   "outputs": [
    {
     "name": "stdout",
     "output_type": "stream",
     "text": [
      " * postgresql://jovyan@127.0.0.1:5432/baseball\n",
      "   postgresql://jovyan@127.0.0.1:5432/postgres\n",
      "1 rows affected.\n",
      "Returning data to local variable result_5a_avg\n"
     ]
    }
   ],
   "source": [
    "%%sql result_5a_avg <<\n",
    "SELECT AVG(salary)\n",
    "FROM salaries;  "
   ]
  },
  {
   "cell_type": "code",
   "execution_count": 449,
   "metadata": {},
   "outputs": [
    {
     "name": "stdout",
     "output_type": "stream",
     "text": [
      "                                                                QUERY PLAN                                                                 \r\n",
      "-------------------------------------------------------------------------------------------------------------------------------------------\r\n",
      " Finalize Aggregate  (cost=10420.36..10420.37 rows=1 width=8) (actual time=79.432..85.591 rows=1 loops=1)\r\n",
      "   ->  Gather  (cost=10420.15..10420.36 rows=2 width=32) (actual time=79.294..85.580 rows=3 loops=1)\r\n",
      "         Workers Planned: 2\r\n",
      "         Workers Launched: 2\r\n",
      "         ->  Partial Aggregate  (cost=9420.15..9420.16 rows=1 width=32) (actual time=75.375..75.377 rows=1 loops=3)\r\n",
      "               ->  Parallel Seq Scan on salaries  (cost=0.00..9080.12 rows=136012 width=8) (actual time=1.246..52.678 rows=108809 loops=3)\r\n",
      " Planning Time: 0.314 ms\r\n",
      " Execution Time: 85.699 ms\r\n",
      "(8 rows)\r\n",
      "\r\n"
     ]
    }
   ],
   "source": [
    "result_5a_avg_query_str = \"SELECT AVG(salary) FROM salaries;  \"\n",
    "!psql -h localhost -d baseball -c \"explain analyze $result_5a_avg_query_str\""
   ]
  },
  {
   "cell_type": "code",
   "execution_count": 450,
   "metadata": {},
   "outputs": [],
   "source": [
    "result_5a_avg_query_cost = 525.36\n",
    "result_5a_avg_query_timing = 5.450 "
   ]
  },
  {
   "cell_type": "code",
   "execution_count": 451,
   "metadata": {
    "deletable": false,
    "editable": false
   },
   "outputs": [
    {
     "data": {
      "text/html": [
       "<p><strong><pre style='display: inline;'>q5aii</pre></strong> passed!</p>"
      ],
      "text/plain": [
       "q5aii results: All test cases passed!"
      ]
     },
     "execution_count": 451,
     "metadata": {},
     "output_type": "execute_result"
    }
   ],
   "source": [
    "grader.check(\"q5aii\")"
   ]
  },
  {
   "cell_type": "markdown",
   "metadata": {},
   "source": [
    "### Question 5b:\n",
    "Create an index on the `salary` column in the `salaries` table and re-inspect the query plans from the previous part and record the respective execution time and cost."
   ]
  },
  {
   "cell_type": "code",
   "execution_count": 452,
   "metadata": {},
   "outputs": [
    {
     "name": "stdout",
     "output_type": "stream",
     "text": [
      " * postgresql://jovyan@127.0.0.1:5432/baseball\n",
      "   postgresql://jovyan@127.0.0.1:5432/postgres\n",
      "Done.\n"
     ]
    },
    {
     "data": {
      "text/plain": [
       "[]"
      ]
     },
     "execution_count": 452,
     "metadata": {},
     "output_type": "execute_result"
    }
   ],
   "source": [
    "%%sql \n",
    "CREATE INDEX salary_inx\n",
    "ON salaries(salary)"
   ]
  },
  {
   "cell_type": "code",
   "execution_count": 453,
   "metadata": {},
   "outputs": [
    {
     "name": "stdout",
     "output_type": "stream",
     "text": [
      "                                                                   QUERY PLAN                                                                    \r\n",
      "-------------------------------------------------------------------------------------------------------------------------------------------------\r\n",
      " Result  (cost=0.48..0.49 rows=1 width=8) (actual time=0.098..0.099 rows=1 loops=1)\r\n",
      "   InitPlan 1 (returns $0)\r\n",
      "     ->  Limit  (cost=0.42..0.48 rows=1 width=8) (actual time=0.095..0.096 rows=1 loops=1)\r\n",
      "           ->  Index Only Scan using salary_inx on salaries  (cost=0.42..19327.38 rows=326428 width=8) (actual time=0.094..0.094 rows=1 loops=1)\r\n",
      "                 Index Cond: (salary IS NOT NULL)\r\n",
      "                 Heap Fetches: 0\r\n",
      " Planning Time: 0.859 ms\r\n",
      " Execution Time: 0.158 ms\r\n",
      "(8 rows)\r\n",
      "\r\n"
     ]
    }
   ],
   "source": [
    "!psql -h localhost -d baseball -c \"explain analyze $result_5a_min_query_str\""
   ]
  },
  {
   "cell_type": "code",
   "execution_count": 454,
   "metadata": {},
   "outputs": [],
   "source": [
    "result_5b_min_query_cost = 0.33\n",
    "result_5b_min_query_timing =0.143"
   ]
  },
  {
   "cell_type": "code",
   "execution_count": 455,
   "metadata": {
    "deletable": false,
    "editable": false
   },
   "outputs": [
    {
     "data": {
      "text/html": [
       "<p><strong><pre style='display: inline;'>q5bi</pre></strong> passed!</p>"
      ],
      "text/plain": [
       "q5bi results: All test cases passed!"
      ]
     },
     "execution_count": 455,
     "metadata": {},
     "output_type": "execute_result"
    }
   ],
   "source": [
    "grader.check(\"q5bi\")"
   ]
  },
  {
   "cell_type": "code",
   "execution_count": 456,
   "metadata": {},
   "outputs": [
    {
     "name": "stdout",
     "output_type": "stream",
     "text": [
      "                                                                QUERY PLAN                                                                 \r\n",
      "-------------------------------------------------------------------------------------------------------------------------------------------\r\n",
      " Finalize Aggregate  (cost=10420.36..10420.37 rows=1 width=8) (actual time=52.101..57.607 rows=1 loops=1)\r\n",
      "   ->  Gather  (cost=10420.15..10420.36 rows=2 width=32) (actual time=51.965..57.597 rows=3 loops=1)\r\n",
      "         Workers Planned: 2\r\n",
      "         Workers Launched: 2\r\n",
      "         ->  Partial Aggregate  (cost=9420.15..9420.16 rows=1 width=32) (actual time=47.967..47.968 rows=1 loops=3)\r\n",
      "               ->  Parallel Seq Scan on salaries  (cost=0.00..9080.12 rows=136012 width=8) (actual time=1.177..35.678 rows=108809 loops=3)\r\n",
      " Planning Time: 0.467 ms\r\n",
      " Execution Time: 57.675 ms\r\n",
      "(8 rows)\r\n",
      "\r\n"
     ]
    }
   ],
   "source": [
    "!psql -h localhost -d baseball -c \"explain analyze $result_5a_avg_query_str\""
   ]
  },
  {
   "cell_type": "code",
   "execution_count": 457,
   "metadata": {},
   "outputs": [],
   "source": [
    "result_5b_avg_query_cost = 525.36\n",
    "result_5b_avg_query_timing =  7.764 "
   ]
  },
  {
   "cell_type": "code",
   "execution_count": 458,
   "metadata": {
    "deletable": false,
    "editable": false
   },
   "outputs": [
    {
     "data": {
      "text/html": [
       "<p><strong><pre style='display: inline;'>q5bii</pre></strong> passed!</p>"
      ],
      "text/plain": [
       "q5bii results: All test cases passed!"
      ]
     },
     "execution_count": 458,
     "metadata": {},
     "output_type": "execute_result"
    }
   ],
   "source": [
    "grader.check(\"q5bii\")"
   ]
  },
  {
   "cell_type": "markdown",
   "metadata": {},
   "source": [
    "In the following questions, we will further explore the impact of indexes on query performance. To avoid any interference from the index on the `salary` column, drop the index before moving onto the next question."
   ]
  },
  {
   "cell_type": "code",
   "execution_count": 459,
   "metadata": {},
   "outputs": [
    {
     "name": "stdout",
     "output_type": "stream",
     "text": [
      " * postgresql://jovyan@127.0.0.1:5432/baseball\n",
      "   postgresql://jovyan@127.0.0.1:5432/postgres\n",
      "Done.\n"
     ]
    },
    {
     "data": {
      "text/plain": [
       "[]"
      ]
     },
     "execution_count": 459,
     "metadata": {},
     "output_type": "execute_result"
    }
   ],
   "source": [
    "%%sql \n",
    "DROP INDEX IF EXISTS salary_inx"
   ]
  },
  {
   "cell_type": "markdown",
   "metadata": {
    "deletable": false,
    "editable": false
   },
   "source": [
    "### Question 5c:\n",
    "Given your findings from `Question 5a-b`, answer the following question. Assign the variable `q5c` to the correct answer choice.\n",
    "\n",
    "1. Which of the following statements is true?\n",
    "    1. An index on the column being aggregated in a query will always provide a performance enhancement.\n",
    "    1. A query finding the MIN(salary) will always benefit from an index on salary, but a query finding MAX(salary) will not.\n",
    "    1. A query finding the COUNT(salary) will always benefit from an index on salary, but a query finding AVG(salary) will not.\n",
    "    1. Queries finding the MIN(salary) or MAX(salary) will always benefit from an index on salary, but queries finding AVG(salary) or COUNT(salary) will not.\n",
    "\n",
    "*Note:* Your answer should be formatted as follows: `q5c = ['A', 'B']`\n",
    "\n",
    "<!--\n",
    "BEGIN QUESTION\n",
    "name: q5c\n",
    "points: 1\n",
    "-->"
   ]
  },
  {
   "cell_type": "code",
   "execution_count": 460,
   "metadata": {},
   "outputs": [],
   "source": [
    "q5c = ['D']"
   ]
  },
  {
   "cell_type": "code",
   "execution_count": 461,
   "metadata": {
    "deletable": false,
    "editable": false
   },
   "outputs": [
    {
     "data": {
      "text/html": [
       "<p><strong><pre style='display: inline;'>q5c</pre></strong> passed!</p>"
      ],
      "text/plain": [
       "q5c results: All test cases passed!"
      ]
     },
     "execution_count": 461,
     "metadata": {},
     "output_type": "execute_result"
    }
   ],
   "source": [
    "grader.check(\"q5c\")"
   ]
  },
  {
   "cell_type": "markdown",
   "metadata": {
    "deletable": false,
    "editable": false
   },
   "source": [
    "<!-- BEGIN QUESTION -->\n",
    "\n",
    "### Question 5d:\n",
    "\n",
    "Explain your answer to the previous part based on your knowledge from lectures, and your inspection of the query plans.\n",
    "\n",
    "<!--\n",
    "BEGIN QUESTION\n",
    "name: q5d\n",
    "manual: true\n",
    "points: 2\n",
    "-->"
   ]
  },
  {
   "cell_type": "markdown",
   "metadata": {},
   "source": [
    "I chose D as an answer because AVG and COUNT have to scan every single entry in the table and do additional math such as adding and diving which makes it to have high cost and time. On the other hand, MIN and MAX does not need additional calculation which makes it easier for the index to bring the first page of the index and the last page of the index. So this is why queries finding the MIN(salary) or MAX(salary) will always benefit from an index on salary, but queries finding AVG(salary) or COUNT(salary) will not."
   ]
  },
  {
   "cell_type": "markdown",
   "metadata": {},
   "source": [
    "<!-- END QUESTION -->\n",
    "\n",
    "\n",
    "\n",
    "## Question 6: Clustered Indexes\n",
    "In this question, we will inspect the impact that clustering our data on an index can have on a query's performance.\n",
    "\n",
    "### Question 6a\n",
    "Write a query that finds the `playerid`, `yearid`, `teamid`, and `ab` for all players whose `ab` was above 500. Inspect the query plan and record the execution time and cost."
   ]
  },
  {
   "cell_type": "code",
   "execution_count": 462,
   "metadata": {
    "scrolled": false
   },
   "outputs": [
    {
     "name": "stdout",
     "output_type": "stream",
     "text": [
      " * postgresql://jovyan@127.0.0.1:5432/baseball\n",
      "   postgresql://jovyan@127.0.0.1:5432/postgres\n",
      "8839 rows affected.\n",
      "Returning data to local variable result_6a\n"
     ]
    }
   ],
   "source": [
    "%%sql result_6a <<\n",
    "SELECT playerid, yearid,teamid, ab\n",
    "FROM batting\n",
    "WHERE ab > 500;"
   ]
  },
  {
   "cell_type": "code",
   "execution_count": 463,
   "metadata": {},
   "outputs": [],
   "source": [
    "# Do not delete/edit this cell\n",
    "result_6a.DataFrame().sort_values(['playerid', 'yearid', 'teamid']).iloc[:1000].to_csv('results/result_6a.csv', index=False)"
   ]
  },
  {
   "cell_type": "code",
   "execution_count": 464,
   "metadata": {
    "deletable": false,
    "editable": false
   },
   "outputs": [
    {
     "data": {
      "text/html": [
       "<p><strong><pre style='display: inline;'>q6ai</pre></strong> passed!</p>"
      ],
      "text/plain": [
       "q6ai results: All test cases passed!"
      ]
     },
     "execution_count": 464,
     "metadata": {},
     "output_type": "execute_result"
    }
   ],
   "source": [
    "grader.check(\"q6ai\")"
   ]
  },
  {
   "cell_type": "code",
   "execution_count": 465,
   "metadata": {},
   "outputs": [
    {
     "name": "stdout",
     "output_type": "stream",
     "text": [
      "                                                      QUERY PLAN                                                       \r\n",
      "-----------------------------------------------------------------------------------------------------------------------\r\n",
      " Bitmap Heap Scan on batting  (cost=106.69..1807.24 rows=9084 width=21) (actual time=0.725..6.132 rows=8839 loops=1)\r\n",
      "   Recheck Cond: (ab > 500)\r\n",
      "   Heap Blocks: exact=1311\r\n",
      "   ->  Bitmap Index Scan on ab_idx  (cost=0.00..104.42 rows=9084 width=0) (actual time=0.555..0.556 rows=8839 loops=1)\r\n",
      "         Index Cond: (ab > 500)\r\n",
      " Planning Time: 24.660 ms\r\n",
      " Execution Time: 6.587 ms\r\n",
      "(7 rows)\r\n",
      "\r\n"
     ]
    }
   ],
   "source": [
    "result_6a_query_str = \"SELECT playerid, yearid,teamid, ab FROM batting WHERE ab > 500;\"\n",
    "!psql -h localhost -d baseball -c \"explain analyze $result_6a_query_str\""
   ]
  },
  {
   "cell_type": "code",
   "execution_count": 466,
   "metadata": {},
   "outputs": [],
   "source": [
    "result_6a_cost =2884.05\n",
    "result_6a_timing =  13.708"
   ]
  },
  {
   "cell_type": "code",
   "execution_count": 467,
   "metadata": {
    "deletable": false,
    "editable": false
   },
   "outputs": [
    {
     "data": {
      "text/html": [
       "<p><strong><pre style='display: inline;'>q6aii</pre></strong> passed!</p>"
      ],
      "text/plain": [
       "q6aii results: All test cases passed!"
      ]
     },
     "execution_count": 467,
     "metadata": {},
     "output_type": "execute_result"
    }
   ],
   "source": [
    "grader.check(\"q6aii\")"
   ]
  },
  {
   "cell_type": "markdown",
   "metadata": {},
   "source": [
    "### Question 6b:\n",
    "Cluster the `batting` table on its primary key (hint: use `\\di` to find out what name of the primary key is). We are able to directly cluster on the primary key (without first creating a separate index) because Postgres automatically creates an index for it. Re-inspect the query plan for the query from `Question 6a` and record the execution time and cost."
   ]
  },
  {
   "cell_type": "code",
   "execution_count": 468,
   "metadata": {
    "scrolled": true
   },
   "outputs": [
    {
     "name": "stdout",
     "output_type": "stream",
     "text": [
      " * postgresql://jovyan@127.0.0.1:5432/baseball\n",
      "   postgresql://jovyan@127.0.0.1:5432/postgres\n",
      "28 rows affected.\n"
     ]
    },
    {
     "data": {
      "text/html": [
       "<table>\n",
       "    <tr>\n",
       "        <th>Schema</th>\n",
       "        <th>Name</th>\n",
       "        <th>Type</th>\n",
       "        <th>Owner</th>\n",
       "    </tr>\n",
       "    <tr>\n",
       "        <td>public</td>\n",
       "        <td>ab_idx</td>\n",
       "        <td>index</td>\n",
       "        <td>jovyan</td>\n",
       "    </tr>\n",
       "    <tr>\n",
       "        <td>public</td>\n",
       "        <td>allstarfull_pkey</td>\n",
       "        <td>index</td>\n",
       "        <td>jovyan</td>\n",
       "    </tr>\n",
       "    <tr>\n",
       "        <td>public</td>\n",
       "        <td>appearances_pkey</td>\n",
       "        <td>index</td>\n",
       "        <td>jovyan</td>\n",
       "    </tr>\n",
       "    <tr>\n",
       "        <td>public</td>\n",
       "        <td>awardsmanagers_pkey</td>\n",
       "        <td>index</td>\n",
       "        <td>jovyan</td>\n",
       "    </tr>\n",
       "    <tr>\n",
       "        <td>public</td>\n",
       "        <td>awardsplayers_pkey</td>\n",
       "        <td>index</td>\n",
       "        <td>jovyan</td>\n",
       "    </tr>\n",
       "    <tr>\n",
       "        <td>public</td>\n",
       "        <td>awardssharemanagers_pkey</td>\n",
       "        <td>index</td>\n",
       "        <td>jovyan</td>\n",
       "    </tr>\n",
       "    <tr>\n",
       "        <td>public</td>\n",
       "        <td>awardsshareplayers_pkey</td>\n",
       "        <td>index</td>\n",
       "        <td>jovyan</td>\n",
       "    </tr>\n",
       "    <tr>\n",
       "        <td>public</td>\n",
       "        <td>batting_pkey</td>\n",
       "        <td>index</td>\n",
       "        <td>jovyan</td>\n",
       "    </tr>\n",
       "    <tr>\n",
       "        <td>public</td>\n",
       "        <td>battingpost_pkey</td>\n",
       "        <td>index</td>\n",
       "        <td>jovyan</td>\n",
       "    </tr>\n",
       "    <tr>\n",
       "        <td>public</td>\n",
       "        <td>collegeplaying_pkey</td>\n",
       "        <td>index</td>\n",
       "        <td>jovyan</td>\n",
       "    </tr>\n",
       "    <tr>\n",
       "        <td>public</td>\n",
       "        <td>fielding_pkey</td>\n",
       "        <td>index</td>\n",
       "        <td>jovyan</td>\n",
       "    </tr>\n",
       "    <tr>\n",
       "        <td>public</td>\n",
       "        <td>fieldingof_pkey</td>\n",
       "        <td>index</td>\n",
       "        <td>jovyan</td>\n",
       "    </tr>\n",
       "    <tr>\n",
       "        <td>public</td>\n",
       "        <td>fieldingpost_pkey</td>\n",
       "        <td>index</td>\n",
       "        <td>jovyan</td>\n",
       "    </tr>\n",
       "    <tr>\n",
       "        <td>public</td>\n",
       "        <td>g_batting_g_all_idx</td>\n",
       "        <td>index</td>\n",
       "        <td>jovyan</td>\n",
       "    </tr>\n",
       "    <tr>\n",
       "        <td>public</td>\n",
       "        <td>halloffame_pkey</td>\n",
       "        <td>index</td>\n",
       "        <td>jovyan</td>\n",
       "    </tr>\n",
       "    <tr>\n",
       "        <td>public</td>\n",
       "        <td>homegames_pkey</td>\n",
       "        <td>index</td>\n",
       "        <td>jovyan</td>\n",
       "    </tr>\n",
       "    <tr>\n",
       "        <td>public</td>\n",
       "        <td>managers_pkey</td>\n",
       "        <td>index</td>\n",
       "        <td>jovyan</td>\n",
       "    </tr>\n",
       "    <tr>\n",
       "        <td>public</td>\n",
       "        <td>managershalf_pkey</td>\n",
       "        <td>index</td>\n",
       "        <td>jovyan</td>\n",
       "    </tr>\n",
       "    <tr>\n",
       "        <td>public</td>\n",
       "        <td>master_pkey</td>\n",
       "        <td>index</td>\n",
       "        <td>jovyan</td>\n",
       "    </tr>\n",
       "    <tr>\n",
       "        <td>public</td>\n",
       "        <td>parks_pkey</td>\n",
       "        <td>index</td>\n",
       "        <td>jovyan</td>\n",
       "    </tr>\n",
       "    <tr>\n",
       "        <td>public</td>\n",
       "        <td>pitching_pkey</td>\n",
       "        <td>index</td>\n",
       "        <td>jovyan</td>\n",
       "    </tr>\n",
       "    <tr>\n",
       "        <td>public</td>\n",
       "        <td>pitchingpost_pkey</td>\n",
       "        <td>index</td>\n",
       "        <td>jovyan</td>\n",
       "    </tr>\n",
       "    <tr>\n",
       "        <td>public</td>\n",
       "        <td>salaries_pkey</td>\n",
       "        <td>index</td>\n",
       "        <td>jovyan</td>\n",
       "    </tr>\n",
       "    <tr>\n",
       "        <td>public</td>\n",
       "        <td>schools_pkey</td>\n",
       "        <td>index</td>\n",
       "        <td>jovyan</td>\n",
       "    </tr>\n",
       "    <tr>\n",
       "        <td>public</td>\n",
       "        <td>seriespost_pkey</td>\n",
       "        <td>index</td>\n",
       "        <td>jovyan</td>\n",
       "    </tr>\n",
       "    <tr>\n",
       "        <td>public</td>\n",
       "        <td>teams_pkey</td>\n",
       "        <td>index</td>\n",
       "        <td>jovyan</td>\n",
       "    </tr>\n",
       "    <tr>\n",
       "        <td>public</td>\n",
       "        <td>teamsfranchises_pkey</td>\n",
       "        <td>index</td>\n",
       "        <td>jovyan</td>\n",
       "    </tr>\n",
       "    <tr>\n",
       "        <td>public</td>\n",
       "        <td>teamshalf_pkey</td>\n",
       "        <td>index</td>\n",
       "        <td>jovyan</td>\n",
       "    </tr>\n",
       "</table>"
      ],
      "text/plain": [
       "[('public', 'ab_idx', 'index', 'jovyan'),\n",
       " ('public', 'allstarfull_pkey', 'index', 'jovyan'),\n",
       " ('public', 'appearances_pkey', 'index', 'jovyan'),\n",
       " ('public', 'awardsmanagers_pkey', 'index', 'jovyan'),\n",
       " ('public', 'awardsplayers_pkey', 'index', 'jovyan'),\n",
       " ('public', 'awardssharemanagers_pkey', 'index', 'jovyan'),\n",
       " ('public', 'awardsshareplayers_pkey', 'index', 'jovyan'),\n",
       " ('public', 'batting_pkey', 'index', 'jovyan'),\n",
       " ('public', 'battingpost_pkey', 'index', 'jovyan'),\n",
       " ('public', 'collegeplaying_pkey', 'index', 'jovyan'),\n",
       " ('public', 'fielding_pkey', 'index', 'jovyan'),\n",
       " ('public', 'fieldingof_pkey', 'index', 'jovyan'),\n",
       " ('public', 'fieldingpost_pkey', 'index', 'jovyan'),\n",
       " ('public', 'g_batting_g_all_idx', 'index', 'jovyan'),\n",
       " ('public', 'halloffame_pkey', 'index', 'jovyan'),\n",
       " ('public', 'homegames_pkey', 'index', 'jovyan'),\n",
       " ('public', 'managers_pkey', 'index', 'jovyan'),\n",
       " ('public', 'managershalf_pkey', 'index', 'jovyan'),\n",
       " ('public', 'master_pkey', 'index', 'jovyan'),\n",
       " ('public', 'parks_pkey', 'index', 'jovyan'),\n",
       " ('public', 'pitching_pkey', 'index', 'jovyan'),\n",
       " ('public', 'pitchingpost_pkey', 'index', 'jovyan'),\n",
       " ('public', 'salaries_pkey', 'index', 'jovyan'),\n",
       " ('public', 'schools_pkey', 'index', 'jovyan'),\n",
       " ('public', 'seriespost_pkey', 'index', 'jovyan'),\n",
       " ('public', 'teams_pkey', 'index', 'jovyan'),\n",
       " ('public', 'teamsfranchises_pkey', 'index', 'jovyan'),\n",
       " ('public', 'teamshalf_pkey', 'index', 'jovyan')]"
      ]
     },
     "execution_count": 468,
     "metadata": {},
     "output_type": "execute_result"
    }
   ],
   "source": [
    "%sql \\di"
   ]
  },
  {
   "cell_type": "code",
   "execution_count": 469,
   "metadata": {},
   "outputs": [
    {
     "name": "stdout",
     "output_type": "stream",
     "text": [
      " * postgresql://jovyan@127.0.0.1:5432/baseball\n",
      "   postgresql://jovyan@127.0.0.1:5432/postgres\n",
      "Done.\n"
     ]
    },
    {
     "data": {
      "text/plain": [
       "[]"
      ]
     },
     "execution_count": 469,
     "metadata": {},
     "output_type": "execute_result"
    }
   ],
   "source": [
    "%%sql \n",
    "CLUSTER batting USING batting_pkey"
   ]
  },
  {
   "cell_type": "code",
   "execution_count": 470,
   "metadata": {},
   "outputs": [
    {
     "name": "stdout",
     "output_type": "stream",
     "text": [
      "                                                      QUERY PLAN                                                       \r\n",
      "-----------------------------------------------------------------------------------------------------------------------\r\n",
      " Bitmap Heap Scan on batting  (cost=106.11..1792.72 rows=9009 width=21) (actual time=0.870..5.963 rows=8839 loops=1)\r\n",
      "   Recheck Cond: (ab > 500)\r\n",
      "   Heap Blocks: exact=1311\r\n",
      "   ->  Bitmap Index Scan on ab_idx  (cost=0.00..103.86 rows=9009 width=0) (actual time=0.666..0.667 rows=8839 loops=1)\r\n",
      "         Index Cond: (ab > 500)\r\n",
      " Planning Time: 0.475 ms\r\n",
      " Execution Time: 6.349 ms\r\n",
      "(7 rows)\r\n",
      "\r\n"
     ]
    }
   ],
   "source": [
    "!psql -h localhost -d baseball -c \"explain analyze $result_6a_query_str\""
   ]
  },
  {
   "cell_type": "code",
   "execution_count": 471,
   "metadata": {},
   "outputs": [],
   "source": [
    "result_6b_cost = 2878.05\n",
    "result_6b_timing = 14.464"
   ]
  },
  {
   "cell_type": "code",
   "execution_count": 472,
   "metadata": {
    "deletable": false,
    "editable": false
   },
   "outputs": [
    {
     "data": {
      "text/html": [
       "<p><strong><pre style='display: inline;'>q6b</pre></strong> passed!</p>"
      ],
      "text/plain": [
       "q6b results: All test cases passed!"
      ]
     },
     "execution_count": 472,
     "metadata": {},
     "output_type": "execute_result"
    }
   ],
   "source": [
    "grader.check(\"q6b\")"
   ]
  },
  {
   "cell_type": "markdown",
   "metadata": {},
   "source": [
    "### Question 6c\n",
    "Now, let's try clustering the table based on another index. Create an index on `ab` column called `ab_idx` in the `batting` table AND cluster the `batting` table with this new index. Now, re-inspect the query plan and record the execution time and cost."
   ]
  },
  {
   "cell_type": "code",
   "execution_count": 473,
   "metadata": {},
   "outputs": [
    {
     "name": "stdout",
     "output_type": "stream",
     "text": [
      " * postgresql://jovyan@127.0.0.1:5432/baseball\n",
      "   postgresql://jovyan@127.0.0.1:5432/postgres\n",
      "(psycopg2.errors.DuplicateTable) relation \"ab_idx\" already exists\n",
      "\n",
      "[SQL: CREATE INDEX ab_idx ON batting(ab);]\n",
      "(Background on this error at: https://sqlalche.me/e/14/f405)\n"
     ]
    }
   ],
   "source": [
    "%%sql \n",
    "CREATE INDEX ab_idx\n",
    "ON batting(ab);\n",
    "\n",
    "CLUSTER batting USING ab_idx"
   ]
  },
  {
   "cell_type": "code",
   "execution_count": 474,
   "metadata": {},
   "outputs": [
    {
     "name": "stdout",
     "output_type": "stream",
     "text": [
      "                                                      QUERY PLAN                                                       \r\n",
      "-----------------------------------------------------------------------------------------------------------------------\r\n",
      " Bitmap Heap Scan on batting  (cost=106.11..1792.72 rows=9009 width=21) (actual time=0.655..5.654 rows=8839 loops=1)\r\n",
      "   Recheck Cond: (ab > 500)\r\n",
      "   Heap Blocks: exact=1311\r\n",
      "   ->  Bitmap Index Scan on ab_idx  (cost=0.00..103.86 rows=9009 width=0) (actual time=0.499..0.500 rows=8839 loops=1)\r\n",
      "         Index Cond: (ab > 500)\r\n",
      " Planning Time: 0.374 ms\r\n",
      " Execution Time: 6.017 ms\r\n",
      "(7 rows)\r\n",
      "\r\n"
     ]
    }
   ],
   "source": [
    "!psql -h localhost -d baseball -c \"explain analyze $result_6a_query_str\""
   ]
  },
  {
   "cell_type": "code",
   "execution_count": 475,
   "metadata": {},
   "outputs": [],
   "source": [
    "result_6c_cost = 1783.71\n",
    "result_6c_timing = 2.394 "
   ]
  },
  {
   "cell_type": "code",
   "execution_count": 476,
   "metadata": {
    "deletable": false,
    "editable": false
   },
   "outputs": [
    {
     "data": {
      "text/html": [
       "<p><strong><pre style='display: inline;'>q6c</pre></strong> passed!</p>"
      ],
      "text/plain": [
       "q6c results: All test cases passed!"
      ]
     },
     "execution_count": 476,
     "metadata": {},
     "output_type": "execute_result"
    }
   ],
   "source": [
    "grader.check(\"q6c\")"
   ]
  },
  {
   "cell_type": "markdown",
   "metadata": {
    "deletable": false,
    "editable": false
   },
   "source": [
    "### Question 6d\n",
    "Given your findings from inspecting the query plans from `Question 6a-c`, answer the following question. Assign the variable `q6d` to a list of all statements that are true.\n",
    "\n",
    "1. Consider the following statements:\n",
    "    1. Clustering based on the `ab_idx` decreased the cost of the query.\n",
    "    1. Clustering based on the `ab_idx` increased the cost of the query.\n",
    "    1. Clustering based on the `ab_idx` increased the execution time of the query.\n",
    "    1. Clustering based on the `ab_idx` decreased the execution time of the query.\n",
    "    1. Clustering based on the `batting_pkey` decreased the cost of the query.\n",
    "    1. Clustering based on the `batting_pkey` increased the cost of the query.\n",
    "    1. Clustering based on the `batting_pkey` increased the execution time of the query.\n",
    "    1. Clustering based on the `batting_pkey` decreased the execution time of the query.\n",
    "    1. None of the above\n",
    "    \n",
    "**Note:** Your answer should be formatted as follows: `q6d = ['A', 'B']`\n",
    "\n",
    "<!--\n",
    "BEGIN QUESTION\n",
    "name: q6d\n",
    "points: 2\n",
    "-->"
   ]
  },
  {
   "cell_type": "code",
   "execution_count": 477,
   "metadata": {},
   "outputs": [],
   "source": [
    "q6d = ['A','D']"
   ]
  },
  {
   "cell_type": "code",
   "execution_count": 478,
   "metadata": {
    "deletable": false,
    "editable": false
   },
   "outputs": [
    {
     "data": {
      "text/html": [
       "<p><strong><pre style='display: inline;'>q6d</pre></strong> passed!</p>"
      ],
      "text/plain": [
       "q6d results: All test cases passed!"
      ]
     },
     "execution_count": 478,
     "metadata": {},
     "output_type": "execute_result"
    }
   ],
   "source": [
    "grader.check(\"q6d\")"
   ]
  },
  {
   "cell_type": "markdown",
   "metadata": {
    "deletable": false,
    "editable": false
   },
   "source": [
    "<!-- BEGIN QUESTION -->\n",
    "\n",
    "### Question 6e:\n",
    "\n",
    "Explain your answer to the previous part based on your knowledge from lectures, and your inspection of the query plans (your explanation should include why you didn't choose certain options).\n",
    "\n",
    "<!--\n",
    "BEGIN QUESTION\n",
    "name: q6e\n",
    "manual: true\n",
    "points: 2\n",
    "-->"
   ]
  },
  {
   "cell_type": "markdown",
   "metadata": {},
   "source": [
    "Custering based on ab_idx showed a decrese in execution time and cost because the query is filtering on a column  that is not a primary key and creating a unclustered index made the proceed to go faster. On the other hand, clustering based on batting_pkey did not change or even worsen the execution time due to the overhead of traversing the index since the query is filtering that is not a primary key.\n",
    "\n"
   ]
  },
  {
   "cell_type": "markdown",
   "metadata": {},
   "source": [
    "<!-- END QUESTION -->\n",
    "\n",
    "\n",
    "\n",
    "## Question 7: Cost of Index Management\n",
    "Until now, we have seen the positive potential impact that indexes can have on query performance, but remember in real world technologies/applications, we will be routinely receiving new data (and in large quantities) which would trigger regular updates to our tables. In this section, we will dive into the cost of managing the indexes that we create.\n",
    "\n",
    "### Question 7a:\n",
    "Record the time it takes to insert 300,000 rows into the `salaries` table when no additional index is configured."
   ]
  },
  {
   "cell_type": "markdown",
   "metadata": {},
   "source": [
    "Run the following cell to setup a column to track which rows we added as part of these inserts."
   ]
  },
  {
   "cell_type": "code",
   "execution_count": 479,
   "metadata": {},
   "outputs": [
    {
     "name": "stdout",
     "output_type": "stream",
     "text": [
      " * postgresql://jovyan@127.0.0.1:5432/baseball\n",
      "   postgresql://jovyan@127.0.0.1:5432/postgres\n",
      "(psycopg2.errors.DuplicateColumn) column \"added\" of relation \"salaries\" already exists\n",
      "\n",
      "[SQL: ALTER TABLE salaries ADD added boolean DEFAULT False;]\n",
      "(Background on this error at: https://sqlalche.me/e/14/f405)\n"
     ]
    }
   ],
   "source": [
    "%sql ALTER TABLE salaries ADD added boolean DEFAULT False;"
   ]
  },
  {
   "cell_type": "markdown",
   "metadata": {},
   "source": [
    "Next, run the provided update script and record the **wall time**.\n",
    "\n",
    "**NOTE:** Running the below cell multiple times may result in an error, unless you first delete the rows with the cell given at the end of this subpart."
   ]
  },
  {
   "cell_type": "code",
   "execution_count": 492,
   "metadata": {
    "scrolled": false
   },
   "outputs": [
    {
     "name": "stdout",
     "output_type": "stream",
     "text": [
      " * postgresql://jovyan@127.0.0.1:5432/baseball\n",
      "   postgresql://jovyan@127.0.0.1:5432/postgres\n",
      "Done.\n",
      "CPU times: user 3.85 ms, sys: 2.51 ms, total: 6.36 ms\n",
      "Wall time: 7.03 s\n"
     ]
    },
    {
     "data": {
      "text/plain": [
       "[]"
      ]
     },
     "execution_count": 492,
     "metadata": {},
     "output_type": "execute_result"
    }
   ],
   "source": [
    "%%time\n",
    "%%sql\n",
    "DO $$\n",
    " DECLARE counter INTEGER := 1;\n",
    " BEGIN\n",
    "     FOR counter IN 100001..400000 LOOP\n",
    "     INSERT INTO salaries (yearid, teamid, lgid, playerid, salary, added)\n",
    "         VALUES (2021, 'ATL', 'NL', 'p' || counter, RANDOM() * 1000000, true);\n",
    "     END LOOP;\n",
    "END;\n",
    "$$;"
   ]
  },
  {
   "cell_type": "code",
   "execution_count": 493,
   "metadata": {},
   "outputs": [],
   "source": [
    "result_7a_timing = 6.66"
   ]
  },
  {
   "cell_type": "code",
   "execution_count": 494,
   "metadata": {
    "deletable": false,
    "editable": false
   },
   "outputs": [
    {
     "data": {
      "text/html": [
       "<p><strong><pre style='display: inline;'>q7a</pre></strong> passed!</p>"
      ],
      "text/plain": [
       "q7a results: All test cases passed!"
      ]
     },
     "execution_count": 494,
     "metadata": {},
     "output_type": "execute_result"
    }
   ],
   "source": [
    "grader.check(\"q7a\")"
   ]
  },
  {
   "cell_type": "markdown",
   "metadata": {},
   "source": [
    "Before adding an index to the salaries table and re-timing the updates, delete all the rows that were added to the table from the update script."
   ]
  },
  {
   "cell_type": "code",
   "execution_count": 495,
   "metadata": {
    "scrolled": true
   },
   "outputs": [
    {
     "name": "stdout",
     "output_type": "stream",
     "text": [
      " * postgresql://jovyan@127.0.0.1:5432/baseball\n",
      "   postgresql://jovyan@127.0.0.1:5432/postgres\n",
      "300000 rows affected.\n"
     ]
    },
    {
     "data": {
      "text/plain": [
       "[]"
      ]
     },
     "execution_count": 495,
     "metadata": {},
     "output_type": "execute_result"
    }
   ],
   "source": [
    "%%sql\n",
    "DELETE FROM salaries\n",
    "WHERE added = 'true';"
   ]
  },
  {
   "cell_type": "markdown",
   "metadata": {},
   "source": [
    "### Question 7b:\n",
    "Now, create an index on the `salary` column and record the **wall time** after executing the update script."
   ]
  },
  {
   "cell_type": "code",
   "execution_count": 496,
   "metadata": {
    "scrolled": true
   },
   "outputs": [
    {
     "name": "stdout",
     "output_type": "stream",
     "text": [
      " * postgresql://jovyan@127.0.0.1:5432/baseball\n",
      "   postgresql://jovyan@127.0.0.1:5432/postgres\n",
      "(psycopg2.errors.DuplicateTable) relation \"salary_idx\" already exists\n",
      "\n",
      "[SQL: CREATE INDEX salary_idx ON salaries(salary)]\n",
      "(Background on this error at: https://sqlalche.me/e/14/f405)\n"
     ]
    }
   ],
   "source": [
    "%%sql \n",
    "CREATE INDEX salary_idx\n",
    "ON salaries(salary)"
   ]
  },
  {
   "cell_type": "markdown",
   "metadata": {},
   "source": [
    "**NOTE:** Running the below cell multiple times may result in an error, unless you first delete the rows with the cell given at the end of last subpart."
   ]
  },
  {
   "cell_type": "code",
   "execution_count": 497,
   "metadata": {},
   "outputs": [
    {
     "name": "stdout",
     "output_type": "stream",
     "text": [
      " * postgresql://jovyan@127.0.0.1:5432/baseball\n",
      "   postgresql://jovyan@127.0.0.1:5432/postgres\n",
      "Done.\n",
      "CPU times: user 3.88 ms, sys: 1.48 ms, total: 5.36 ms\n",
      "Wall time: 7.19 s\n"
     ]
    },
    {
     "data": {
      "text/plain": [
       "[]"
      ]
     },
     "execution_count": 497,
     "metadata": {},
     "output_type": "execute_result"
    }
   ],
   "source": [
    "%%time\n",
    "%%sql\n",
    "DO $$\n",
    " DECLARE counter INTEGER := 1;\n",
    " BEGIN\n",
    "     FOR counter IN 100001..400000 LOOP\n",
    "     INSERT INTO salaries (yearid, teamid, lgid, playerid, salary, added)\n",
    "         VALUES (2021, 'ATL', 'NL', 'p' || counter, RANDOM() * 1000000, true);\n",
    "     END LOOP;\n",
    "END;\n",
    "$$;"
   ]
  },
  {
   "cell_type": "code",
   "execution_count": 498,
   "metadata": {},
   "outputs": [],
   "source": [
    "result_7b_timing = 8.23"
   ]
  },
  {
   "cell_type": "code",
   "execution_count": 499,
   "metadata": {
    "deletable": false,
    "editable": false
   },
   "outputs": [
    {
     "data": {
      "text/html": [
       "<p><strong><pre style='display: inline;'>q7b</pre></strong> passed!</p>"
      ],
      "text/plain": [
       "q7b results: All test cases passed!"
      ]
     },
     "execution_count": 499,
     "metadata": {},
     "output_type": "execute_result"
    }
   ],
   "source": [
    "grader.check(\"q7b\")"
   ]
  },
  {
   "cell_type": "markdown",
   "metadata": {
    "deletable": false,
    "editable": false
   },
   "source": [
    "<!-- BEGIN QUESTION -->\n",
    "\n",
    "### Question 7c:\n",
    "What difference did you notice when you added an index into the salaries table and re-timed the update? Why do you think it happened?\n",
    "\n",
    "<!--\n",
    "BEGIN QUESTION\n",
    "name: q7c\n",
    "manual: true\n",
    "points: 2\n",
    "-->"
   ]
  },
  {
   "cell_type": "markdown",
   "metadata": {},
   "source": [
    "When it is insertion-heavy queries, having index will take longer wall time than without the index. This is because adding an index will store more data which makes it longer to be fully reflected on the table. Therefore, maintenance costs increases during updates which may lead to inaccurate query results.\n"
   ]
  },
  {
   "cell_type": "markdown",
   "metadata": {
    "deletable": false,
    "editable": false
   },
   "source": [
    "<!-- END QUESTION -->\n",
    "\n",
    "<!-- BEGIN QUESTION -->\n",
    "\n",
    "## Question 8: Takeaway\n",
    "\n",
    "In this project, we explored how the database system optimizes query execution and how users can futher tune the performance of their queries.\n",
    "\n",
    "Familiarizing yourself with these optimization and tuning methods will make you a better data engineer. In this question, we'll ask you to recall and summarize these concepts. Who knows? Maybe one day it will help you during an interview or on a project.\n",
    "\n",
    "In the following answer cell,\n",
    "1. Name 3 methods you learned in this project. The method can be either the optimization done by the database system, or the fine tuning done by the user.\n",
    "2. For each method, summarize how and why it can optimize query performance. Feel free to discuss any drawbacks, if applicable.\n",
    "\n",
    "<!--\n",
    "BEGIN QUESTION\n",
    "name: q8\n",
    "manual: true\n",
    "points: 6\n",
    "-->"
   ]
  },
  {
   "cell_type": "markdown",
   "metadata": {},
   "source": [
    "1. Replace SUBQUERIES with JOIN : Although subqueries are useful, in general, a query that makes use of a subquery takes longer time to execute because we must first process that subquery and then process the outer query that uses the subquery.\n",
    "2. Do CLUSTERING Based On Queries : Clustering on a primary key would not guarantee to enhance the performance if the query is conducting 'ordering'or 'filtering' that is not a primary key. Therefore, create a non clustered index and then activate clustering would develop the performance and cost.\n",
    "3. Use INDEX Wisely : Indexes speed up the performance of a database but also takes space in memory. Especially, multicolumn indexes can store additional sorted pointers to other columns and can retrieve data faster from the table. Therefore, it is important to use index whenever it significantly improves the performance of your database. However, when there are frequent updates/deletes/insertions, using index would hinder performance because it takes longer time to update the database. \n",
    "4. USE FILTERS : Use filters such as WHERE or AND so that it reduces the amount of rows to store or scan. \n"
   ]
  },
  {
   "cell_type": "markdown",
   "metadata": {},
   "source": [
    "<!-- END QUESTION -->\n",
    "\n",
    "\n",
    "\n",
    "## Congratulations! You have finished Project 2.\n",
    "\n",
    "Run the following cell to zip and download the results of your queries. You will also need to run the export cell at the end of the notebook.\n",
    "\n",
    "**Please save your notebook before exporting (this is a good time to do it!)** Otherwise, we may not be able to register your written responses.\n",
    "\n",
    "**For submission on Gradescope, you will need to submit BOTH the proj2.zip file genreated by the export cell and the results.zip file generated by the following cell.**\n",
    "\n",
    "**Common submission issues:** You MUST submit the generated zip files (not folders) to the autograder. However, Safari is known to automatically unzip files upon downloading. You can fix this by going into Safari preferences, and deselect the box with the text \"Open safe files after downloading\" under the \"General\" tab. If you experience issues with downloading via clicking on the link, you can also navigate to the project 2 directory within JupyterHub (remove `proj2.ipynb` from the url), and manually download the generated zip files. Please post on Ed if you encounter any other submission issues."
   ]
  },
  {
   "cell_type": "code",
   "execution_count": 500,
   "metadata": {
    "scrolled": true
   },
   "outputs": [
    {
     "name": "stdout",
     "output_type": "stream",
     "text": [
      "updating: results/ (stored 0%)\r\n",
      "updating: results/result_1a.csv (deflated 53%)\r\n",
      "updating: results/result_1c.csv (deflated 64%)\r\n",
      "updating: results/result_1di_view.csv (deflated 37%)\r\n",
      "updating: results/result_1di_no_view.csv (deflated 37%)\r\n",
      "updating: results/result_1ei.csv (deflated 64%)\r\n",
      "updating: results/result_1eii.csv (deflated 37%)\r\n",
      "updating: results/result_4a.csv (deflated 59%)\r\n",
      "updating: results/result_4ei.csv (deflated 62%)\r\n",
      "updating: results/result_4eiii.csv (deflated 64%)\r\n",
      "updating: results/result_6a.csv (deflated 72%)\r\n"
     ]
    },
    {
     "data": {
      "text/html": [
       "Click here to download: <a href='./results.zip' target='_blank'>./results.zip</a><br>"
      ],
      "text/plain": [
       "/home/jovyan/fa22/proj/proj2/results.zip"
      ]
     },
     "metadata": {},
     "output_type": "display_data"
    }
   ],
   "source": [
    "from IPython.display import display, FileLink\n",
    "\n",
    "!zip -r results.zip results\n",
    "results_file = FileLink('./results.zip', result_html_prefix=\"Click here to download: \")\n",
    "display(results_file)"
   ]
  },
  {
   "cell_type": "markdown",
   "metadata": {
    "deletable": false,
    "editable": false
   },
   "source": [
    "---\n",
    "\n",
    "To double-check your work, the cell below will rerun all of the autograder tests."
   ]
  },
  {
   "cell_type": "code",
   "execution_count": 501,
   "metadata": {
    "deletable": false,
    "editable": false
   },
   "outputs": [
    {
     "data": {
      "text/plain": [
       "q0 results: All test cases passed!\n",
       "\n",
       "q1a results: All test cases passed!\n",
       "\n",
       "q1bi results: All test cases passed!\n",
       "\n",
       "q1bii results: All test cases passed!\n",
       "\n",
       "q1c results: All test cases passed!\n",
       "\n",
       "q1di results: All test cases passed!\n",
       "\n",
       "q1dii results: All test cases passed!\n",
       "\n",
       "q1ei results: All test cases passed!\n",
       "\n",
       "q1eii results: All test cases passed!\n",
       "\n",
       "q1eiii results: All test cases passed!\n",
       "\n",
       "q1eiv results: All test cases passed!\n",
       "\n",
       "q2a results: All test cases passed!\n",
       "\n",
       "q2b results: All test cases passed!\n",
       "\n",
       "q2c results: All test cases passed!\n",
       "\n",
       "q3a results: All test cases passed!\n",
       "\n",
       "q3b results: All test cases passed!\n",
       "\n",
       "q3c results: All test cases passed!\n",
       "\n",
       "q4ai results: All test cases passed!\n",
       "\n",
       "q4aii results: All test cases passed!\n",
       "\n",
       "q4b results: All test cases passed!\n",
       "\n",
       "q4c results: All test cases passed!\n",
       "\n",
       "q4di results: All test cases passed!\n",
       "\n",
       "q4ei_part1 results: All test cases passed!\n",
       "\n",
       "q4ei_part2 results: All test cases passed!\n",
       "\n",
       "q4eii results: All test cases passed!\n",
       "\n",
       "q4eiii_part1 results: All test cases passed!\n",
       "\n",
       "q4eiii_part2 results: All test cases passed!\n",
       "\n",
       "q4eiv results: All test cases passed!\n",
       "\n",
       "q4ev results: All test cases passed!\n",
       "\n",
       "q4evi results: All test cases passed!\n",
       "\n",
       "q5ai results: All test cases passed!\n",
       "\n",
       "q5aii results: All test cases passed!\n",
       "\n",
       "q5bi results: All test cases passed!\n",
       "\n",
       "q5bii results: All test cases passed!\n",
       "\n",
       "q5c results: All test cases passed!\n",
       "\n",
       "q6ai results: All test cases passed!\n",
       "\n",
       "q6aii results: All test cases passed!\n",
       "\n",
       "q6b results: All test cases passed!\n",
       "\n",
       "q6c results: All test cases passed!\n",
       "\n",
       "q6d results: All test cases passed!\n",
       "\n",
       "q7a results: All test cases passed!\n",
       "\n",
       "q7b results: All test cases passed!"
      ]
     },
     "execution_count": 501,
     "metadata": {},
     "output_type": "execute_result"
    }
   ],
   "source": [
    "grader.check_all()"
   ]
  },
  {
   "cell_type": "markdown",
   "metadata": {
    "deletable": false,
    "editable": false
   },
   "source": [
    "## Submission\n",
    "\n",
    "Make sure you have run all cells in your notebook in order before running the cell below, so that all images/graphs appear in the output. The cell below will generate a zip file for you to submit. **Please save before exporting!**"
   ]
  },
  {
   "cell_type": "code",
   "execution_count": 502,
   "metadata": {
    "deletable": false,
    "editable": false
   },
   "outputs": [
    {
     "data": {
      "text/html": [
       "\n",
       "            <p>Your submission has been exported. Click <a href=\"proj2_2022_10_08T22_16_35_505256.zip\" download=\"proj2_2022_10_08T22_16_35_505256.zip\" target=\"_blank\">here</a>\n",
       "            to download the zip file.</p>\n",
       "            "
      ],
      "text/plain": [
       "<IPython.core.display.HTML object>"
      ]
     },
     "metadata": {},
     "output_type": "display_data"
    }
   ],
   "source": [
    "# Save your notebook first, then run this cell to export your submission.\n",
    "grader.export()"
   ]
  },
  {
   "cell_type": "markdown",
   "metadata": {},
   "source": [
    " "
   ]
  }
 ],
 "metadata": {
  "kernelspec": {
   "display_name": "Python 3 (ipykernel)",
   "language": "python",
   "name": "python3"
  },
  "language_info": {
   "codemirror_mode": {
    "name": "ipython",
    "version": 3
   },
   "file_extension": ".py",
   "mimetype": "text/x-python",
   "name": "python",
   "nbconvert_exporter": "python",
   "pygments_lexer": "ipython3",
   "version": "3.9.15"
  }
 },
 "nbformat": 4,
 "nbformat_minor": 4
}
